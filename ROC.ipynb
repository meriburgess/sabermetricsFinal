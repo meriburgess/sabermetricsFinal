{
 "cells": [
  {
   "cell_type": "markdown",
   "metadata": {},
   "source": [
    "# Run Opportunities Created-  A new baseball statistic\n",
    "***\n",
    "This is a Sabermetrics final project by Meredith Burgess"
   ]
  },
  {
   "cell_type": "code",
   "execution_count": 16,
   "metadata": {},
   "outputs": [
    {
     "ename": "NameError",
     "evalue": "name 'HTML' is not defined",
     "output_type": "error",
     "traceback": [
      "\u001b[0;31m---------------------------------------------------------------------------\u001b[0m",
      "\u001b[0;31mNameError\u001b[0m                                 Traceback (most recent call last)",
      "\u001b[0;32m<ipython-input-16-ce4657742a59>\u001b[0m in \u001b[0;36m<module>\u001b[0;34m()\u001b[0m\n\u001b[0;32m----> 1\u001b[0;31m HTML('''<script>\n\u001b[0m\u001b[1;32m      2\u001b[0m \u001b[0mcode_show\u001b[0m\u001b[1;33m=\u001b[0m\u001b[0mtrue\u001b[0m\u001b[1;33m;\u001b[0m\u001b[1;33m\u001b[0m\u001b[0m\n\u001b[1;32m      3\u001b[0m function code_toggle() {\n\u001b[1;32m      4\u001b[0m  if (code_show){\n\u001b[1;32m      5\u001b[0m  \u001b[0;31m$\u001b[0m\u001b[1;33m(\u001b[0m\u001b[1;34m'div.input'\u001b[0m\u001b[1;33m)\u001b[0m\u001b[1;33m.\u001b[0m\u001b[0mhide\u001b[0m\u001b[1;33m(\u001b[0m\u001b[1;33m)\u001b[0m\u001b[1;33m;\u001b[0m\u001b[1;33m\u001b[0m\u001b[0m\n",
      "\u001b[0;31mNameError\u001b[0m: name 'HTML' is not defined"
     ]
    }
   ],
   "source": [
    "HTML('''<script>\n",
    "code_show=true; \n",
    "function code_toggle() {\n",
    " if (code_show){\n",
    " $('div.input').hide();\n",
    " } else {\n",
    " $('div.input').show();\n",
    " }\n",
    " code_show = !code_show\n",
    "} \n",
    "$( document ).ready(code_toggle);\n",
    "</script>\n",
    "The raw code for this IPython notebook is by default hidden for easier reading.\n",
    "To toggle on/off the raw code, click <a href=\"javascript:code_toggle()\">here</a>.''')"
   ]
  },
  {
   "cell_type": "code",
   "execution_count": 17,
   "metadata": {},
   "outputs": [],
   "source": [
    "import pandas as pd \n",
    "import numpy as np\n",
    "import matplotlib.pylab as plt\n",
    "import ipywidgets as widgets\n",
    "from ipywidgets import interact, interactive, fixed, interact_manual\n",
    "from IPython.display import display\n",
    "%matplotlib inline"
   ]
  },
  {
   "cell_type": "markdown",
   "metadata": {},
   "source": [
    "Loading data "
   ]
  },
  {
   "cell_type": "code",
   "execution_count": 23,
   "metadata": {},
   "outputs": [
    {
     "data": {
      "text/html": [
       "<div>\n",
       "<table border=\"1\" class=\"dataframe\">\n",
       "  <thead>\n",
       "    <tr style=\"text-align: right;\">\n",
       "      <th></th>\n",
       "      <th>event_cd</th>\n",
       "      <th>eventCD2</th>\n",
       "      <th>eventCD3</th>\n",
       "      <th>eventCD4</th>\n",
       "      <th>runsCt4</th>\n",
       "    </tr>\n",
       "  </thead>\n",
       "  <tbody>\n",
       "    <tr>\n",
       "      <th>0</th>\n",
       "      <td>9</td>\n",
       "      <td>14</td>\n",
       "      <td>2</td>\n",
       "      <td>20</td>\n",
       "      <td>1</td>\n",
       "    </tr>\n",
       "    <tr>\n",
       "      <th>1</th>\n",
       "      <td>14</td>\n",
       "      <td>2</td>\n",
       "      <td>20</td>\n",
       "      <td>20</td>\n",
       "      <td>1</td>\n",
       "    </tr>\n",
       "    <tr>\n",
       "      <th>2</th>\n",
       "      <td>20</td>\n",
       "      <td>3</td>\n",
       "      <td>2</td>\n",
       "      <td>23</td>\n",
       "      <td>2</td>\n",
       "    </tr>\n",
       "    <tr>\n",
       "      <th>3</th>\n",
       "      <td>20</td>\n",
       "      <td>4</td>\n",
       "      <td>2</td>\n",
       "      <td>2</td>\n",
       "      <td>1</td>\n",
       "    </tr>\n",
       "    <tr>\n",
       "      <th>4</th>\n",
       "      <td>20</td>\n",
       "      <td>2</td>\n",
       "      <td>14</td>\n",
       "      <td>20</td>\n",
       "      <td>1</td>\n",
       "    </tr>\n",
       "  </tbody>\n",
       "</table>\n",
       "</div>"
      ],
      "text/plain": [
       "   event_cd  eventCD2  eventCD3  eventCD4  runsCt4\n",
       "0         9        14         2        20        1\n",
       "1        14         2        20        20        1\n",
       "2        20         3         2        23        2\n",
       "3        20         4         2         2        1\n",
       "4        20         2        14        20        1"
      ]
     },
     "execution_count": 23,
     "metadata": {},
     "output_type": "execute_result"
    }
   ],
   "source": [
    "listOfEvents = [\"Out\", \"K\", \"SB\", \"DI\", \"CS\", \"PK\", \"WP\", \"PB\", \"BK\", \"OA\", \"FE\", \"NIBB\", \"IBB\", \"HBP\", \"XI\",\n",
    "\"ROE\", \"FC\", \"1B\", \"2B\", \"3B\", \"HR\" ]\n",
    "listOfEventsLong = [\"Generic Out\", \"Strikeout\", \"Stolen Base\", \"Defensive Indifference\", \"Caught Stealing\", \"Pickoff\", \"Wild Pitch\", \"Passed Ball\",\n",
    "\"Balk\", \"Other Advance\", \"Foul Error\", \"Nonintentional Walk\", \"Intentional Walk\", \"Hit By Pitch\", \"Interference\", \"Error\", \"Fielder Choice\",\n",
    "\"Single\", \"Double\", \"Triple\", \"Homerun\"]\n",
    "eventCodes = [2, 3, 4, 5, 6, 8, 9, 10, 11, 12, 13, 14, 15, 16, 17, 18, 19, 20, 21, 22, 23]\n",
    "eventCodesDict = {\"Out\":2, \"K\":3, \"SB\":4, \"DI\":5, \"CS\":6, \"PK\":8, \"WP\":9, \"PB\":10, \"BK\":11, \"OA\":12, \n",
    "\"FE\":13, \"NIBB\":14, \"IBB\":15, \"HBP\":16, \"XI\":17,\"ROE\":18, \"FC\":19, \"1B\":20, \"2B\":21, \"3B\":22, \"HR\":23}\n",
    "\n",
    "events2DF = pd.read_csv('2gramofevents.csv')\n",
    "events3DF = pd.read_csv('3gramofevents.csv')\n",
    "events4DF = pd.read_csv('4gramofevents.csv')\n",
    "\n",
    "statsDF = pd.read_csv('allStats.csv')\n",
    "\n",
    "total2 = len(events2DF)\n",
    "total3 = len(events3DF)\n",
    "total4 = len(events4DF)\n",
    "events4DF.head()\n"
   ]
  },
  {
   "cell_type": "markdown",
   "metadata": {},
   "source": [
    "-Event frequences in our n-gram \n",
    "\n",
    "-Transition matrix between events\n",
    "\n",
    "-Sequence frequencies "
   ]
  },
  {
   "cell_type": "code",
   "execution_count": 50,
   "metadata": {},
   "outputs": [
    {
     "data": {
      "image/png": "[encoded data removed]",
      "text/plain": [
       "<matplotlib.figure.Figure at 0x16317320>"
      ]
     },
     "metadata": {},
     "output_type": "display_data"
    }
   ],
   "source": [
    "eventFreq2 = {}\n",
    "eventFreq3 = {}\n",
    "eventFreq4 = {}\n",
    "for v in eventCodes:\n",
    "    eventFreq2[v] = 0\n",
    "    eventFreq3[v] = 0\n",
    "    eventFreq4[v] = 0\n",
    "\n",
    "for v in range(0, total2):\n",
    "    eventFreq2[events2DF['event_cd'][v]] += 1\n",
    "    eventFreq2[events2DF['eventCD2'][v]] += 1\n",
    "    \n",
    "for v in range(0, total3):\n",
    "    eventFreq3[events3DF['event_cd'][v]] += 1\n",
    "    eventFreq3[events3DF['eventCD2'][v]] += 1\n",
    "    eventFreq3[events3DF['eventCD3'][v]] += 1\n",
    "    \n",
    "for v in range(0, total4):\n",
    "    eventFreq4[events4DF['event_cd'][v]] += 1\n",
    "    eventFreq4[events4DF['eventCD2'][v]] += 1\n",
    "    eventFreq4[events4DF['eventCD3'][v]] += 1\n",
    "    eventFreq4[events4DF['eventCD4'][v]] += 1\n",
    "    \n",
    "eventNameFreq2 = {}\n",
    "eventNameFreq3 = {}\n",
    "eventNameFreq4 = {}\n",
    "for n in listOfEvents:\n",
    "    k = eventCodesDict[n]\n",
    "    eventNameFreq2[n] = float(eventFreq2[k]) / float(total2*2)\n",
    "    eventNameFreq3[n] = float(eventFreq3[k]) / float(total3*3)\n",
    "    eventNameFreq4[n] = float(eventFreq4[k]) / float(total4*4)\n",
    "    \n",
    "\n",
    "    \n",
    "fig, ax = plt.subplots(3, 1, figsize=(10,10), sharey=True, sharex=True)\n",
    "ax[0].bar(list(eventFreq2.keys()), list(eventNameFreq2.values()), align='center')\n",
    "ax[1].bar(list(eventFreq3.keys()), list(eventNameFreq3.values()), align='center')\n",
    "ax[2].bar(list(eventFreq4.keys()), list(eventNameFreq4.values()), align='center')\n",
    "\n",
    "#plt.bar(list(eventFreq2.keys()), list(eventNameFreq2.values()))\n",
    "plt.xticks(eventFreq2.keys(), eventNameFreq2.keys())\n",
    "fig.suptitle(\"Overall frequency of events in windows of 2, 3, and 4\")\n",
    "plt.show()\n"
   ]
  },
  {
   "cell_type": "code",
   "execution_count": null,
   "metadata": {
    "collapsed": true
   },
   "outputs": [],
   "source": []
  }
 ],
 "metadata": {
  "anaconda-cloud": {},
  "kernelspec": {
   "display_name": "Python [conda env:Anaconda2]",
   "language": "python",
   "name": "conda-env-Anaconda2-py"
  },
  "language_info": {
   "codemirror_mode": {
    "name": "ipython",
    "version": 2
   },
   "file_extension": ".py",
   "mimetype": "text/x-python",
   "name": "python",
   "nbconvert_exporter": "python",
   "pygments_lexer": "ipython2",
   "version": "2.7.12"
  }
 },
 "nbformat": 4,
 "nbformat_minor": 1
}

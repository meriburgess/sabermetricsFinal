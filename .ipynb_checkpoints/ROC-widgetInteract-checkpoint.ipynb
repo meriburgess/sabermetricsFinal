{
 "cells": [
  {
   "cell_type": "markdown",
   "metadata": {},
   "source": [
    "# Run Opportunities Created-  A new baseball statistic\n",
    "***\n",
    "This is a Sabermetrics final project by Meredith Burgess\n",
    "\n",
    "# What is Run Opportunities created? \n",
    "\n",
    "There are many baseball statistics that attempt to measure the number of runs a player contributes toward their team. Gaining runs, after all, is the objective of the game and how the winner is determined. Understanding a players contribution to their score is equivalent of their worth to the team. Stats like runs created try to measure this exactly, while other stats try to measure players abilities to do things that will later turn into runs, such as getting on base. \n",
    "\n",
    "Run opportunities created is a statistic that aims to look at indirect contribution toward overall runs. Rather than looking whether or not a player directly helps create a run in their offensive play (namely, being up to bat on the plate), ROC looks into the ability of a batter to set up a situation which will later create a run. This works under the assumption that there is a \"long game\" strategy to baseball. Here we look at sliding windows of events from retrosheet data (ranging from 2010 to 2013). Windows consist of sizes of 2, 3, and 4 events at a time. We say that order matters in these windows. A single in the first event of the window is not the same as a single in the second, etc. \n",
    "\n",
    "In these windows, or N-grams of baseball events, we are looking for windows that end in a run scored. After these windows are collected, we keep count of all events that happened and the subsequent probabilities of transitioning between them. We also look at the players involved in the event and attribute a score to them based on the probability of that event leading to the next one. These scores are accumulated and then divided by total plate appearances (regardless of whether or not that PA occured in a run scoring window or not). \n",
    "\n",
    "In the rest of this notebook, we will look at data collected and calculated. "
   ]
  },
  {
   "cell_type": "markdown",
   "metadata": {},
   "source": [
    "# As a note"
   ]
  },
  {
   "cell_type": "code",
   "execution_count": 83,
   "metadata": {},
   "outputs": [
    {
     "data": {
      "text/html": [
       "<script>\n",
       "code_show=true; \n",
       "function code_toggle() {\n",
       " if (code_show){\n",
       " $('div.input').hide();\n",
       " } else {\n",
       " $('div.input').show();\n",
       " }\n",
       " code_show = !code_show\n",
       "} \n",
       "$( document ).ready(code_toggle);\n",
       "</script>\n",
       "The raw code for this IPython notebook is by default hidden for easier reading.\n",
       "To toggle on/off the raw code, click <a href=\"javascript:code_toggle()\">here</a>."
      ],
      "text/plain": [
       "<IPython.core.display.HTML object>"
      ]
     },
     "execution_count": 83,
     "metadata": {},
     "output_type": "execute_result"
    }
   ],
   "source": [
    "HTML('''<script>\n",
    "code_show=true; \n",
    "function code_toggle() {\n",
    " if (code_show){\n",
    " $('div.input').hide();\n",
    " } else {\n",
    " $('div.input').show();\n",
    " }\n",
    " code_show = !code_show\n",
    "} \n",
    "$( document ).ready(code_toggle);\n",
    "</script>\n",
    "The raw code for this IPython notebook is by default hidden for easier reading.\n",
    "To toggle on/off the raw code, click <a href=\"javascript:code_toggle()\">here</a>.''')"
   ]
  },
  {
   "cell_type": "code",
   "execution_count": 1,
   "metadata": {
    "collapsed": true
   },
   "outputs": [],
   "source": [
    "import pandas as pd \n",
    "import numpy as np\n",
    "import matplotlib.pylab as plt\n",
    "import matplotlib.ticker as ticker\n",
    "import operator\n",
    "import ipywidgets as widgets\n",
    "from ipywidgets import *\n",
    "from IPython.display import display, HTML, clear_output\n",
    "%matplotlib inline"
   ]
  },
  {
   "cell_type": "code",
   "execution_count": 30,
   "metadata": {
    "collapsed": true
   },
   "outputs": [],
   "source": [
    "#lists and dictionaries \n",
    "listOfEvents = [\"Out\", \"K\", \"SB\", \"DI\", \"CS\", \"PK\", \"WP\", \"PB\", \"BK\", \"OA\", \"FE\", \"NIBB\", \"IBB\", \"HBP\", \"XI\",\n",
    "\"ROE\", \"FC\", \"1B\", \"2B\", \"3B\", \"HR\" ]\n",
    "\n",
    "listOfEventsLong = [\"Generic Out\", \"Strikeout\", \"Stolen Base\", \"Defensive Indifference\", \"Caught Stealing\", \"Pickoff\", \"Wild Pitch\", \"Passed Ball\",\n",
    "\"Balk\", \"Other Advance\", \"Foul Error\", \"Nonintentional Walk\", \"Intentional Walk\", \"Hit By Pitch\", \"Interference\", \"Error\", \"Fielder Choice\",\n",
    "\"Single\", \"Double\", \"Triple\", \"Homerun\"]\n",
    "\n",
    "eventCodes = [2, 3, 4, 5, 6, 8, 9, 10, 11, 12, 13, 14, 15, 16, 17, 18, 19, 20, 21, 22, 23]\n",
    "\n",
    "eventCodesDict = {\"Out\":2, \"K\":3, \"SB\":4, \"DI\":5, \"CS\":6, \"PK\":8, \"WP\":9, \"PB\":10, \"BK\":11, \"OA\":12, \n",
    "\"FE\":13, \"NIBB\":14, \"IBB\":15, \"HBP\":16, \"XI\":17,\"ROE\":18, \"FC\":19, \"1B\":20, \"2B\":21, \"3B\":22, \"HR\":23}\n",
    "\n",
    "eventCodesDictLong = {\"Generic Out\":2, \"Strikeout\":3, \"Stolen Base\":4, \"Defensive Indifference\":5, \"Caught Stealing\":6,\n",
    "\"Pickoff\":8, \"Wild Pitch\":9, \"Passed Ball\":10, \"Balk\":11, \"Other Advance\":12, \"Foul Error\":13, \"Nonintentional Walk\":14, \n",
    "\"Intentional Walk\":15, \"Hit By Pitch\":16, \"Interference\":17,\"Error\":18, \"Fielder Choice\":19, \"Singe\":20, \"Double\":21, \n",
    "\"Triple\":22, \"Homerun\":23}\n",
    "\n",
    "eventCodesDictReversedFull = {2:[\"Out\",\"Out\"], 3:[\"K\", \"Strikeout\"], 4:[\"SB\", \"Stolen Base\"], 5:[\"DI\", \"Defensive Indifference\"],\n",
    "6:[\"CS\", \"Caught Stealing\"], 8:[\"PK\", \"Pickoff\"], 9:[\"WP\", \"Wild Pitch\"], 10:[\"PB\", \"Passed Ball\"], 11:[\"BK\", \"Balk\"], 12:[\"OA\", \"Other Advance\"], \n",
    "13:[\"FE\", \"Foul Error\"], 14:[\"NIBB\", \"Nonintentional Walk\"], 15:[\"IBB\", \"Intentional Walk\"], 16:[\"HBP\", \"Hit by pitch\"], \n",
    "17:[\"XI\", \"Interference\"],18:[\"ROE\", \"Error\"], 19:[\"FC\", \"Fielder Choice\"], 20:[\"1B\", \"Single\"], 21:[\"2B\", \"Double\"],\n",
    "22:[\"3B\", \"Triple\"], 23:[\"HR\", \"Homerun\"]}\n",
    "\n",
    "#load files \n",
    "events2DF = pd.read_csv('2gramofevents.csv')\n",
    "events3DF = pd.read_csv('3gramofevents.csv')\n",
    "events4DF = pd.read_csv('4gramofevents.csv')\n",
    "\n",
    "#set lengths \n",
    "total2 = len(events2DF)\n",
    "total3 = len(events3DF)\n",
    "total4 = len(events4DF)\n"
   ]
  },
  {
   "cell_type": "markdown",
   "metadata": {},
   "source": [
    "# Event frequencies\n",
    "***\n",
    "Here we look at event frequences (converted to percentage overall) of each event in each slot of a window (2, 3, or 4).\n",
    "Each histogram shows the frequency of each event. \n"
   ]
  },
  {
   "cell_type": "code",
   "execution_count": 4,
   "metadata": {
    "collapsed": true
   },
   "outputs": [],
   "source": [
    "eventFreq2 = {}\n",
    "eventFreq3 = {}\n",
    "eventFreq4 = {}\n",
    "\n",
    "eventFreq2_1 = {}\n",
    "eventFreq2_2 = {}\n",
    "\n",
    "eventFreq3_1 = {}\n",
    "eventFreq3_2 = {}\n",
    "eventFreq3_3 = {}\n",
    "\n",
    "eventFreq4_1 = {}\n",
    "eventFreq4_2 = {}\n",
    "eventFreq4_3 = {}\n",
    "eventFreq4_4 = {}\n",
    "\n",
    "for v in eventCodes:\n",
    "    eventFreq2[v] = 0\n",
    "    eventFreq3[v] = 0\n",
    "    eventFreq4[v] = 0\n",
    "    \n",
    "    eventFreq2_1[v] = 0\n",
    "    eventFreq2_2[v] = 0\n",
    "    eventFreq3_1[v] = 0\n",
    "    eventFreq3_2[v] = 0\n",
    "    eventFreq3_3[v] = 0\n",
    "    eventFreq4_1[v] = 0\n",
    "    eventFreq4_2[v] = 0\n",
    "    eventFreq4_3[v] = 0\n",
    "    eventFreq4_4[v] = 0\n",
    "\n",
    "for v in range(0, total2):\n",
    "    eventFreq2[events2DF['event_cd'][v]] += 1\n",
    "    eventFreq2[events2DF['eventCD2'][v]] += 1\n",
    "    \n",
    "    eventFreq2_1[events2DF['event_cd'][v]] += 1\n",
    "    eventFreq2_2[events2DF['eventCD2'][v]] += 1\n",
    "    \n",
    "for v in range(0, total3):\n",
    "    eventFreq3[events3DF['event_cd'][v]] += 1\n",
    "    eventFreq3[events3DF['eventCD2'][v]] += 1\n",
    "    eventFreq3[events3DF['eventCD3'][v]] += 1\n",
    "    \n",
    "    eventFreq3_1[events3DF['event_cd'][v]] += 1\n",
    "    eventFreq3_2[events3DF['eventCD2'][v]] += 1\n",
    "    eventFreq3_3[events3DF['eventCD3'][v]] += 1\n",
    "    \n",
    "for v in range(0, total4):\n",
    "    eventFreq4[events4DF['event_cd'][v]] += 1\n",
    "    eventFreq4[events4DF['eventCD2'][v]] += 1\n",
    "    eventFreq4[events4DF['eventCD3'][v]] += 1\n",
    "    eventFreq4[events4DF['eventCD4'][v]] += 1\n",
    "    \n",
    "    eventFreq4_1[events4DF['event_cd'][v]] += 1\n",
    "    eventFreq4_2[events4DF['eventCD2'][v]] += 1\n",
    "    eventFreq4_3[events4DF['eventCD3'][v]] += 1\n",
    "    eventFreq4_4[events4DF['eventCD4'][v]] += 1\n",
    "    \n",
    "eventNameFreq2 = {}\n",
    "eventNameFreq3 = {}\n",
    "eventNameFreq4 = {}\n",
    "\n",
    "eventNameFreq2_1 = {}\n",
    "eventNameFreq2_2 = {}\n",
    "\n",
    "eventNameFreq3_1 = {}\n",
    "eventNameFreq3_2 = {}\n",
    "eventNameFreq3_3 = {}\n",
    "\n",
    "eventNameFreq4_1 = {}\n",
    "eventNameFreq4_2 = {}\n",
    "eventNameFreq4_3 = {}\n",
    "eventNameFreq4_4 = {}\n",
    "\n",
    "for n in listOfEvents:\n",
    "    k = eventCodesDict[n]\n",
    "    eventNameFreq2[n] = float(eventFreq2[k]) / float(total2*2)\n",
    "    eventNameFreq3[n] = float(eventFreq3[k]) / float(total3*3)\n",
    "    eventNameFreq4[n] = float(eventFreq4[k]) / float(total4*4)\n",
    "    \n",
    "    eventNameFreq2_1[n] = float(eventFreq2_1[k]) / float(total2)\n",
    "    eventNameFreq2_2[n] = float(eventFreq2_2[k]) / float(total2)\n",
    "\n",
    "    eventNameFreq3_1[n] = float(eventFreq3_1[k]) / float(total3)\n",
    "    eventNameFreq3_2[n] = float(eventFreq3_2[k]) / float(total3)\n",
    "    eventNameFreq3_3[n] = float(eventFreq3_3[k]) / float(total3)\n",
    "\n",
    "    eventNameFreq4_1[n] = float(eventFreq4_1[k]) / float(total4)\n",
    "    eventNameFreq4_2[n] = float(eventFreq4_2[k]) / float(total4)\n",
    "    eventNameFreq4_3[n] = float(eventFreq4_3[k]) / float(total4)\n",
    "    eventNameFreq4_4[n] = float(eventFreq4_4[k]) / float(total4)"
   ]
  },
  {
   "cell_type": "markdown",
   "metadata": {},
   "source": [
    "First, we can see the overall frequencies of events in each n-gram of events, regardless of placement in the sequence. "
   ]
  },
  {
   "cell_type": "code",
   "execution_count": 5,
   "metadata": {},
   "outputs": [
    {
     "data": {
      "image/png": "[encoded data removed]",
      "text/plain": [
       "<matplotlib.figure.Figure at 0x7174860>"
      ]
     },
     "metadata": {},
     "output_type": "display_data"
    }
   ],
   "source": [
    "fig, ax = plt.subplots(3, 1, figsize=(10,10), sharey=True, sharex=True)\n",
    "ax[0].bar(list(eventFreq2.keys()), list(eventNameFreq2.values()), align='center')\n",
    "ax[1].bar(list(eventFreq3.keys()), list(eventNameFreq3.values()), align='center')\n",
    "ax[2].bar(list(eventFreq4.keys()), list(eventNameFreq4.values()), align='center')\n",
    "\n",
    "plt.xticks(list(eventFreq2.keys()), list(eventNameFreq2.keys()))\n",
    "plt.xlabel(\"Events\")\n",
    "plt.ylabel(\"Frequency\")\n",
    "fig.suptitle(\"Overall frequency of events in windows of 2, 3, and 4\")\n",
    "plt.show()"
   ]
  },
  {
   "cell_type": "markdown",
   "metadata": {},
   "source": [
    "Next, we can look at the order specific frequencies. By this, we mean looking at the counts of, say, a 1B in either the first, second, third, or fourth slot of a window of events. We do this because in a certain sense, order matters. "
   ]
  },
  {
   "cell_type": "code",
   "execution_count": 6,
   "metadata": {},
   "outputs": [
    {
     "data": {
      "image/png": "[encoded data removed]",
      "text/plain": [
       "<matplotlib.figure.Figure at 0x7174358>"
      ]
     },
     "metadata": {},
     "output_type": "display_data"
    }
   ],
   "source": [
    "fig, ax = plt.subplots(2, 1, figsize=(10,5), sharey=True, sharex=True)\n",
    "ax[0].bar(list(eventFreq2_1.keys()), list(eventNameFreq2_1.values()), align='center')\n",
    "ax[1].bar(list(eventFreq2_2.keys()), list(eventNameFreq2_2.values()), align='center')\n",
    "\n",
    "plt.xticks(list(eventFreq2_1.keys()), list(eventNameFreq2_1.keys()))\n",
    "plt.xlabel(\"Events\")\n",
    "plt.ylabel(\"Frequency\")\n",
    "fig.suptitle(\"Frequency of events in in frame 1 and 2 in windows of 2\")\n",
    "plt.show()"
   ]
  },
  {
   "cell_type": "code",
   "execution_count": 7,
   "metadata": {},
   "outputs": [
    {
     "data": {
      "image/png": "[encoded data removed]",
      "text/plain": [
       "<matplotlib.figure.Figure at 0xce8acc0>"
      ]
     },
     "metadata": {},
     "output_type": "display_data"
    }
   ],
   "source": [
    "fig, ax = plt.subplots(3, 1, figsize=(10,6), sharey=True, sharex=True)\n",
    "ax[0].bar(list(eventFreq3_1.keys()), list(eventNameFreq3_1.values()), align='center')\n",
    "ax[1].bar(list(eventFreq3_2.keys()), list(eventNameFreq3_2.values()), align='center')\n",
    "ax[2].bar(list(eventFreq3_3.keys()), list(eventNameFreq3_3.values()), align='center')\n",
    "\n",
    "plt.xticks(list(eventFreq3_1.keys()), list(eventNameFreq3_1.keys()))\n",
    "plt.xlabel(\"Events\")\n",
    "plt.ylabel(\"Frequency\")\n",
    "fig.suptitle(\"Frequency of events in in frame 1, 2, and 3 in windows of 3\")\n",
    "plt.show()"
   ]
  },
  {
   "cell_type": "code",
   "execution_count": 9,
   "metadata": {},
   "outputs": [
    {
     "data": {
      "image/png": "[encoded data removed]",
      "text/plain": [
       "<matplotlib.figure.Figure at 0xae8d8d0>"
      ]
     },
     "metadata": {},
     "output_type": "display_data"
    }
   ],
   "source": [
    "fig, ax = plt.subplots(4, 1, figsize=(10,7), sharey=True, sharex=True)\n",
    "ax[0].bar(list(eventFreq4_1.keys()), list(eventNameFreq4_1.values()), align='center')\n",
    "ax[1].bar(list(eventFreq4_2.keys()), list(eventNameFreq4_2.values()), align='center')\n",
    "ax[2].bar(list(eventFreq4_3.keys()), list(eventNameFreq4_3.values()), align='center')\n",
    "ax[3].bar(list(eventFreq4_3.keys()), list(eventNameFreq4_3.values()), align='center')\n",
    "\n",
    "plt.xticks(list(eventFreq4_1.keys()), list(eventNameFreq4_1.keys()))\n",
    "plt.xlabel(\"Events\")\n",
    "plt.ylabel(\"Frequency\")\n",
    "fig.suptitle(\"Frequency of events in in frame 1, 2, 3, and 4 in windows of 4\")\n",
    "plt.show()"
   ]
  },
  {
   "cell_type": "markdown",
   "metadata": {},
   "source": [
    "# Transition Matrices\n",
    "***\n",
    "We can also look at transitions between events and the probability of one event transitioning to another. The colored grids show each event and the likelihood of transitioning to another. More yellow colors indicate a higher probability of transition, while darker blue colors indicate a lower likelihood. \n"
   ]
  },
  {
   "cell_type": "code",
   "execution_count": 8,
   "metadata": {
    "collapsed": true
   },
   "outputs": [],
   "source": [
    "#transition matrices \n",
    "\n",
    "trans2_1to2 = {}\n",
    "\n",
    "trans3_1to2 = {}\n",
    "trans3_2to3 = {}\n",
    "\n",
    "trans4_1to2 = {}\n",
    "trans4_2to3 = {}\n",
    "trans4_3to4 = {}\n",
    "\n",
    "#for counting of unique sequences\n",
    "hashable2Seqs = {}\n",
    "hashable3Seqs = {}\n",
    "hashable4Seqs = {}\n",
    "\n",
    "for i in range(2, 24):\n",
    "    trans2_1to2[i] = {}\n",
    "\n",
    "    trans3_1to2[i] = {}\n",
    "    trans3_2to3[i] = {}\n",
    "\n",
    "    trans4_1to2[i] = {}\n",
    "    trans4_2to3[i] = {}\n",
    "    trans4_3to4[i] = {}\n",
    "\n",
    "#count transitions\n",
    "for v in range(0, total2):\n",
    "    e1 = events2DF['event_cd'][v]\n",
    "    e2 = events2DF['eventCD2'][v]\n",
    "    trans2_1to2[e1][e2] = trans2_1to2[e1].get(e2, 0) + 1\n",
    "    hashable2Seqs[str(e1) + \"_\" + str(e2)] = hashable2Seqs.get(str(e1) + \"_\" + str(e2), 0) + 1\n",
    "    \n",
    "for v in range(0, total3):\n",
    "    e1 = events3DF['event_cd'][v]\n",
    "    e2 = events3DF['eventCD2'][v]\n",
    "    e3 = events3DF['eventCD3'][v]\n",
    "    trans3_1to2[e1][e2] = trans3_1to2[e1].get(e2, 0) + 1\n",
    "    trans3_2to3[e2][e3] = trans3_2to3[e2].get(e3, 0) + 1\n",
    "    hashable3Seqs[str(e1) + \"_\" + str(e2) + \"_\" + str(e3)] = hashable3Seqs.get(str(e1) + \"_\" + str(e2) + \"_\" + str(e3), 0) + 1\n",
    "    \n",
    "for v in range(0, total4):\n",
    "    e1 = events4DF['event_cd'][v]\n",
    "    e2 = events4DF['eventCD2'][v]\n",
    "    e3 = events4DF['eventCD3'][v]\n",
    "    e4 = events4DF['eventCD4'][v]\n",
    "    trans4_1to2[e1][e2] = trans4_1to2[e1].get(e2, 0) + 1\n",
    "    trans4_2to3[e2][e3] = trans4_2to3[e2].get(e3, 0) + 1\n",
    "    trans4_3to4[e3][e4] = trans4_3to4[e3].get(e4, 0) + 1\n",
    "    hashable4Seqs[str(e1) + \"_\" + str(e2) + \"_\" + str(e3) +\"_\" + str(e4)] = hashable4Seqs.get(str(e1) + \"_\" + str(e2) + \"_\" + str(e3) + \"_\" + str(e4), 0) + 1\n",
    "\n",
    "    \n",
    "#normalize \n",
    "for k in range(2, 24):\n",
    "    total = 0\n",
    "    for k2 in trans2_1to2[k].keys():\n",
    "        total += trans2_1to2[k][k2]\n",
    "    for k2 in trans2_1to2[k].keys():\n",
    "        trans2_1to2[k][k2] = round(float(trans2_1to2[k][k2])/ float(total), 5)\n",
    "        \n",
    "    total = 0\n",
    "    for k2 in trans3_1to2[k].keys():\n",
    "        total += trans3_1to2[k][k2]\n",
    "    for k2 in trans3_1to2[k].keys():\n",
    "        trans3_1to2[k][k2] = round(float(trans3_1to2[k][k2])/ float(total), 5)\n",
    "    total = 0\n",
    "    for k2 in trans3_2to3[k].keys():\n",
    "        total += trans3_2to3[k][k2]\n",
    "    for k2 in trans3_2to3[k].keys():\n",
    "        trans3_2to3[k][k2] = round(float(trans3_2to3[k][k2])/ float(total), 5)\n",
    "        \n",
    "    total = 0\n",
    "    for k2 in trans4_1to2[k].keys():\n",
    "        total += trans4_1to2[k][k2]\n",
    "    for k2 in trans4_1to2[k].keys():\n",
    "        trans4_1to2[k][k2] = round(float(trans4_1to2[k][k2])/ float(total), 5)\n",
    "    total = 0\n",
    "    for k2 in trans4_2to3[k].keys():\n",
    "        total += trans4_2to3[k][k2]\n",
    "    for k2 in trans4_2to3[k].keys():\n",
    "        trans4_2to3[k][k2] = round(float(trans4_2to3[k][k2])/ float(total), 5)\n",
    "    total = 0\n",
    "    for k2 in trans4_3to4[k].keys():\n",
    "        total += trans4_3to4[k][k2]\n",
    "    for k2 in trans4_3to4[k].keys():\n",
    "        trans4_3to4[k][k2] = round(float(trans4_3to4[k][k2])/ float(total), 5)"
   ]
  },
  {
   "cell_type": "code",
   "execution_count": 63,
   "metadata": {
    "collapsed": true
   },
   "outputs": [],
   "source": [
    "pickTransition = widgets.Dropdown(options=['Event 1 to event 2 - 2 events', 'Event 1 to event 2 - 3 events', 'Event 2 to event 3 - 3 events', \n",
    "                              'Event 1 to event 2 - 4 events', 'Event 2 to event 3 - 4 events', 'Event 3 to event 4 - 4 events' ])\n",
    "pickTransition"
   ]
  },
  {
   "cell_type": "code",
   "execution_count": 82,
   "metadata": {},
   "outputs": [
    {
     "data": {
      "image/png": "[encoded data removed]",
      "text/plain": [
       "<matplotlib.figure.Figure at 0x4b63908>"
      ]
     },
     "metadata": {},
     "output_type": "display_data"
    }
   ],
   "source": [
    "allMyTransMatrices = [trans2_1to2, trans3_1to2, trans3_2to3, trans4_1to2, trans4_2to3, trans4_3to4]\n",
    "titles = [\"Transition between 1st and 2nd event in 2gram\",\"Transition between 1st and 2nd event in 3gram\",\n",
    "         \"Transition between 2nd and 3rd event in 3gram\", \"Transition between 1st and 2nd event in 4gram\",\n",
    "         \"Transition between 2nd and 3rd event in 4gram\", \"Transition between 3rd and 4th event in 4gram\"]\n",
    "\n",
    "\n",
    "\n",
    "trans_button = widgets.Button(description=\"Show transition probabilities\", layout=Layout(width=\"50%\", height='80px'))\n",
    "display(trans_button)\n",
    "\n",
    "\n",
    "    \n",
    "def on_trans_button_clicked(b):\n",
    "    clear_output()\n",
    "    transitionIndex = 0\n",
    "    if pickTransition.value == 'Event 1 to event 2 - 2 events':\n",
    "        transitionIndex = 0\n",
    "    elif pickTransition.value == 'Event 1 to event 2 - 3 events':\n",
    "        transitionIndex = 1\n",
    "    elif pickTransition.value == 'Event 2 to event 3 - 3 events':\n",
    "        transitionIndex = 2\n",
    "    elif pickTransition.value == 'Event 1 to event 2 - 4 events':\n",
    "        transitionIndex = 3\n",
    "    elif pickTransition.value == 'Event 2 to event 3 - 4 events':\n",
    "        transitionIndex = 4\n",
    "    else: \n",
    "        transitionIndex = 5\n",
    "        \n",
    "    d = allMyTransMatrices[transitionIndex]\n",
    "    title = titles[transitionIndex]\n",
    "    \n",
    "    myMtx = np.zeros((len(eventCodes), len(eventCodes)))\n",
    "    for i in range(0, len(eventCodes)):\n",
    "        for j in range(0, len(eventCodes)):\n",
    "            if eventCodes[i] in d.keys():\n",
    "                if eventCodes[j] in d[eventCodes[i]].keys():\n",
    "                    myMtx[i, j] = d[eventCodes[i]][eventCodes[j]]\n",
    "                else:\n",
    "                    myMtx[i, j] = 0\n",
    "            else:\n",
    "                myMtx[i, j] = 0\n",
    "\n",
    "    fig = plt.figure(figsize=(10,10))\n",
    "    ax = fig.add_subplot(111)\n",
    "   \n",
    "    \n",
    "    ax.set_xticks(np.arange(len(listOfEvents)))\n",
    "    ax.set_yticks(np.arange(len(listOfEvents)))\n",
    "    \n",
    "    ax.xaxis.set_major_locator(ticker.MultipleLocator(1))\n",
    "    ax.yaxis.set_major_locator(ticker.MultipleLocator(1))\n",
    "    ax.tick_params(axis='both', which='both', length=2)\n",
    "    \n",
    "    ax.set_xticklabels(listOfEvents)\n",
    "    ax.set_yticklabels(listOfEvents)\n",
    "    \n",
    "    \n",
    "    \n",
    "    #plt.xticks(range(len(listOfEvents)), listOfEvents)\n",
    "    plt.title(title)\n",
    "    \n",
    "    cax = ax.matshow(myMtx)\n",
    "    fig.colorbar(cax)\n",
    "    plt.show()\n",
    "    \n",
    "    #transDF = pd.DataFrame(d)\n",
    "    #print(transDF)\n",
    "\n",
    "\n",
    "trans_button.on_click(on_trans_button_clicked)"
   ]
  },
  {
   "cell_type": "markdown",
   "metadata": {},
   "source": [
    "# Sequences\n",
    "***\n",
    "Now we look at sequence frequencies. What are the most recurring sequences?  "
   ]
  },
  {
   "cell_type": "markdown",
   "metadata": {},
   "source": [
    "We start with the top 10 sequences of 2 events"
   ]
  },
  {
   "cell_type": "code",
   "execution_count": 12,
   "metadata": {},
   "outputs": [
    {
     "name": "stdout",
     "output_type": "stream",
     "text": [
      "Out , Single\n",
      "Count 5297\n",
      "Percentage 8.579 % \n",
      "\n",
      "Single , Single\n",
      "Count 4847\n",
      "Percentage 7.85 % \n",
      "\n",
      "Out , Homerun\n",
      "Count 5584\n",
      "Percentage 9.044 % \n",
      "\n",
      "Single , Out\n",
      "Count 2803\n",
      "Percentage 4.54 % \n",
      "\n",
      "Strikeout , Homerun\n",
      "Count 2145\n",
      "Percentage 3.474 % \n",
      "\n",
      "Nonintentional Walk , Single\n",
      "Count 2954\n",
      "Percentage 4.784 % \n",
      "\n",
      "Out , Double\n",
      "Count 2354\n",
      "Percentage 3.8129999999999997 % \n",
      "\n",
      "Double , Single\n",
      "Count 2825\n",
      "Percentage 4.575 % \n",
      "\n",
      "Single , Double\n",
      "Count 2965\n",
      "Percentage 4.802 % \n",
      "\n",
      "Single , Homerun\n",
      "Count 2646\n",
      "Percentage 4.2860000000000005 % \n",
      "\n"
     ]
    }
   ],
   "source": [
    "#top sequences \n",
    "\n",
    "#newA = dict(sorted(A.iteritems(), key=operator.itemgetter(1), reverse=True)[:5])\n",
    "\n",
    "topSeqsOf2 = dict(sorted(hashable2Seqs.items(), key=operator.itemgetter(1), reverse=True)[:10])\n",
    "topSeqsOf3 = dict(sorted(hashable3Seqs.items(), key=operator.itemgetter(1), reverse=True)[:10])\n",
    "topSeqsOf4 = dict(sorted(hashable4Seqs.items(), key=operator.itemgetter(1), reverse=True)[:10])\n",
    "\n",
    "#print(topSeqsOf2, topSeqsOf3, topSeqsOf4)\n",
    "\n",
    "for event in topSeqsOf2.keys(): \n",
    "    isoEvent = event.split(\"_\")\n",
    "    print(eventCodesDictReversedFull[int(isoEvent[0])][1], \",\", eventCodesDictReversedFull[int(isoEvent[1])][1])\n",
    "    print(\"Count\", topSeqsOf2[event])\n",
    "    print(\"Percentage\", round(float(topSeqsOf2[event])/float(total2),5)*100, \"% \\n\")\n"
   ]
  },
  {
   "cell_type": "markdown",
   "metadata": {},
   "source": [
    "The top 10 sequences of 3 events"
   ]
  },
  {
   "cell_type": "code",
   "execution_count": 13,
   "metadata": {},
   "outputs": [
    {
     "name": "stdout",
     "output_type": "stream",
     "text": [
      "Single , Out , Double\n",
      "Count 802\n",
      "Percentage 1.455 % \n",
      "\n",
      "Single , Single , Out\n",
      "Count 1012\n",
      "Percentage 1.836 % \n",
      "\n",
      "Nonintentional Walk , Single , Single\n",
      "Count 848\n",
      "Percentage 1.539 % \n",
      "\n",
      "Out , Double , Single\n",
      "Count 896\n",
      "Percentage 1.6260000000000001 % \n",
      "\n",
      "Out , Single , Double\n",
      "Count 807\n",
      "Percentage 1.464 % \n",
      "\n",
      "Double , Out , Single\n",
      "Count 1160\n",
      "Percentage 2.105 % \n",
      "\n",
      "Single , Out , Single\n",
      "Count 1494\n",
      "Percentage 2.711 % \n",
      "\n",
      "Out , Out , Homerun\n",
      "Count 1298\n",
      "Percentage 2.355 % \n",
      "\n",
      "Single , Single , Single\n",
      "Count 1860\n",
      "Percentage 3.375 % \n",
      "\n",
      "Out , Single , Single\n",
      "Count 874\n",
      "Percentage 1.5859999999999999 % \n",
      "\n"
     ]
    }
   ],
   "source": [
    "for event in topSeqsOf3.keys(): \n",
    "    isoEvent = event.split(\"_\")\n",
    "    print(eventCodesDictReversedFull[int(isoEvent[0])][1], \",\", eventCodesDictReversedFull[int(isoEvent[1])][1], \",\", eventCodesDictReversedFull[int(isoEvent[2])][1],)\n",
    "    print(\"Count\", topSeqsOf3[event])\n",
    "    print(\"Percentage\", round(float(topSeqsOf3[event])/float(total3),5)*100, \"% \\n\")"
   ]
  },
  {
   "cell_type": "markdown",
   "metadata": {},
   "source": [
    "The top 10 sequences of 4 events"
   ]
  },
  {
   "cell_type": "code",
   "execution_count": 14,
   "metadata": {},
   "outputs": [
    {
     "name": "stdout",
     "output_type": "stream",
     "text": [
      "Out , Nonintentional Walk , Single , Single\n",
      "Count 291\n",
      "Percentage 0.674 % \n",
      "\n",
      "Single , Out , Out , Single\n",
      "Count 352\n",
      "Percentage 0.815 % \n",
      "\n",
      "Single , Single , Out , Out\n",
      "Count 289\n",
      "Percentage 0.6689999999999999 % \n",
      "\n",
      "Single , Single , Single , Single\n",
      "Count 340\n",
      "Percentage 0.787 % \n",
      "\n",
      "Out , Single , Out , Single\n",
      "Count 246\n",
      "Percentage 0.5700000000000001 % \n",
      "\n",
      "Single , Single , Single , Out\n",
      "Count 244\n",
      "Percentage 0.565 % \n",
      "\n",
      "Out , Double , Out , Single\n",
      "Count 256\n",
      "Percentage 0.5930000000000001 % \n",
      "\n",
      "Out , Single , Single , Single\n",
      "Count 577\n",
      "Percentage 1.336 % \n",
      "\n",
      "Single , Single , Out , Single\n",
      "Count 559\n",
      "Percentage 1.294 % \n",
      "\n",
      "Single , Out , Single , Single\n",
      "Count 404\n",
      "Percentage 0.936 % \n",
      "\n"
     ]
    }
   ],
   "source": [
    "for event in topSeqsOf4.keys(): \n",
    "    isoEvent = event.split(\"_\")\n",
    "    print(eventCodesDictReversedFull[int(isoEvent[0])][1], \",\", eventCodesDictReversedFull[int(isoEvent[1])][1], \",\", eventCodesDictReversedFull[int(isoEvent[2])][1], \",\",  eventCodesDictReversedFull[int(isoEvent[3])][1])\n",
    "    print(\"Count\", topSeqsOf4[event])\n",
    "    print(\"Percentage\", round(float(topSeqsOf4[event])/float(total4),5)*100, \"% \\n\")"
   ]
  },
  {
   "cell_type": "markdown",
   "metadata": {},
   "source": [
    "# Top ROC Players"
   ]
  },
  {
   "cell_type": "code",
   "execution_count": 96,
   "metadata": {},
   "outputs": [
    {
     "name": "stdout",
     "output_type": "stream",
     "text": [
      "Highest ROC scores in 2 events\n",
      "     firstName   lastName   RC  OBP      2ROC      3ROC      4ROC\n",
      "1377      Luis      Marte  0.0  0.0  0.340700  0.000000  0.000000\n",
      "874       Nick    Vincent  0.0  0.0  0.329770  0.000000  0.449670\n",
      "1485    Daniel       Bard  0.0  0.0  0.170350  0.000000  0.000000\n",
      "494       Jose  Arredondo  0.0  0.5  0.164440  0.000000  0.192120\n",
      "56       Dylan    Axelrod  0.0  0.5  0.164440  0.007815  0.328160\n",
      "363     Dallas     Braden  0.0  0.0  0.161590  0.000000  0.223300\n",
      "802        Jon      Rauch  0.0  0.0  0.161590  0.007460  0.351785\n",
      "1804  Fernando      Nieve  0.0  0.0  0.161590  0.000000  0.223300\n",
      "1004      Tony     Watson  0.0  0.0  0.129272  0.000000  0.089320\n",
      "596      Jesse    English  0.0  0.0  0.118360  0.000000  0.132990\n",
      "\n",
      "\n",
      "Highest ROC scores in 3 events\n",
      "     firstName     lastName        RC       OBP      2ROC      3ROC      4ROC\n",
      "409       Brad      Peacock  0.000000  0.000000  0.028724  0.122224  0.060246\n",
      "279       Matt        Moore  0.000000  0.000000  0.095781  0.061157  0.131583\n",
      "1695      Greg        Smith  0.615385  0.307692  0.023288  0.060598  0.038191\n",
      "1426      John        Maine  0.000000  0.000000  0.010893  0.060463  0.022732\n",
      "361      Jesse       Chavez  0.000000  0.000000  0.068140  0.056700  0.051902\n",
      "1388      Cole       Garner  0.000000  0.300000  0.052056  0.055392  0.057555\n",
      "1884     Rubby   de la Rosa  0.000000  0.000000  0.010105  0.055284  0.045951\n",
      "1763     Jason       Vargas  0.000000  0.214286  0.019058  0.054629  0.103898\n",
      "1382    Carlos  Monasterios  0.000000  0.071429  0.034916  0.053428  0.069681\n",
      "399    Zachary      Britton  0.000000  0.000000  0.017952  0.048412  0.058259\n",
      "\n",
      "\n",
      "Highest ROC scores in 4 events\n",
      "     firstName lastName   RC       OBP     2ROC      3ROC      4ROC\n",
      "874       Nick  Vincent  0.0  0.000000  0.32977  0.000000  0.449670\n",
      "802        Jon    Rauch  0.0  0.000000  0.16159  0.007460  0.351785\n",
      "56       Dylan  Axelrod  0.0  0.500000  0.16444  0.007815  0.328160\n",
      "921      Shawn     Camp  0.0  1.000000  0.00000  0.000000  0.285450\n",
      "376       Jose    Veras  0.0  1.000000  0.00000  0.000000  0.281440\n",
      "524     Robert   Carson  0.0  1.000000  0.00000  0.000000  0.281170\n",
      "104    Aroldis  Chapman  0.0  0.000000  0.00000  0.000000  0.280160\n",
      "440     Kenley   Jansen  0.0  0.666667  0.00000  0.000000  0.265650\n",
      "1772      Sean  Burnett  0.0  1.000000  0.00000  0.000000  0.243677\n",
      "363     Dallas   Braden  0.0  0.000000  0.16159  0.000000  0.223300\n"
     ]
    }
   ],
   "source": [
    "#player scores data \n",
    "statsDF = pd.read_csv('allStats.csv')\n",
    "\n",
    "print(\"Highest ROC scores in 2 events\")\n",
    "print(statsDF.sort_values('2ROC', ascending=False).head(10))\n",
    "print(\"\\n\")\n",
    "\n",
    "print(\"Highest ROC scores in 3 events\")\n",
    "print(statsDF.sort_values('3ROC', ascending=False).head(10))\n",
    "print(\"\\n\")\n",
    "\n",
    "print(\"Highest ROC scores in 4 events\")\n",
    "print(statsDF.sort_values('4ROC', ascending=False).head(10))\n",
    "\n",
    "playerNames = []\n",
    "for line in range(0,len(statsDF)):\n",
    "    name = str(statsDF['firstName'][line]) + \" \" + str(statsDF['lastName'][line])\n",
    "    playerNames.append(name)\n",
    "    \n",
    "playerNames.sort()"
   ]
  },
  {
   "cell_type": "markdown",
   "metadata": {},
   "source": [
    "# Comparing ROC with RC and OBP\n",
    "***\n",
    "\n",
    "Looking at the histograms, runs created and all ROC stats appear to have exponential distributions. This could indicate that they are similar and correlated. OBP is a bit unusually shaped. "
   ]
  },
  {
   "cell_type": "code",
   "execution_count": 44,
   "metadata": {},
   "outputs": [
    {
     "data": {
      "image/png": "[encoded data removed]",
      "text/plain": [
       "<matplotlib.figure.Figure at 0x9bf3518>"
      ]
     },
     "metadata": {},
     "output_type": "display_data"
    }
   ],
   "source": [
    "\n",
    "\n",
    "#distribution of OBP, RC, and all ROC scores \n",
    "binSize = 20\n",
    "plt.figure(figsize=(15,8))\n",
    "plt.subplot(2, 3, 1)\n",
    "plt.hist(statsDF['OBP'], bins=binSize)\n",
    "plt.title(\"OBP Frequency\")\n",
    "plt.subplot(2, 3, 2)\n",
    "plt.hist(statsDF['RC'], bins=binSize)\n",
    "plt.title(\"RC Frequency\")\n",
    "plt.subplot(2, 3, 4)\n",
    "plt.hist(statsDF['2ROC'], bins=binSize)\n",
    "plt.title(\"ROC in 2 events Frequency\")\n",
    "plt.subplot(2, 3, 5)\n",
    "plt.hist(statsDF['3ROC'], bins=binSize)\n",
    "plt.title(\"ROC in 3 events Frequency\")\n",
    "plt.subplot(2, 3, 6)\n",
    "plt.hist(statsDF['4ROC'], bins=binSize)\n",
    "plt.title(\"ROC in 4 events Frequency\")\n",
    "plt.show()"
   ]
  },
  {
   "cell_type": "markdown",
   "metadata": {},
   "source": [
    "# Correlation \n",
    "\n",
    "We can also observe each point of data compared to one another in order to visualize the relationships.\n",
    "Pick a statistic in each dropdown box to compare. "
   ]
  },
  {
   "cell_type": "code",
   "execution_count": 16,
   "metadata": {
    "collapsed": true
   },
   "outputs": [],
   "source": [
    "c1 = widgets.Dropdown(options=['RC', 'OBP', '2ROC', '3ROC', '4ROC'])\n",
    "c1"
   ]
  },
  {
   "cell_type": "code",
   "execution_count": 17,
   "metadata": {
    "collapsed": true
   },
   "outputs": [],
   "source": [
    "c2 = widgets.Dropdown(options=['RC', 'OBP', '2ROC', '3ROC', '4ROC'])\n",
    "c2"
   ]
  },
  {
   "cell_type": "code",
   "execution_count": 60,
   "metadata": {},
   "outputs": [
    {
     "name": "stdout",
     "output_type": "stream",
     "text": [
      "Correlation between RC and 3ROC : 0.403546299905\n"
     ]
    },
    {
     "data": {
      "image/png": "[encoded data removed]",
      "text/plain": [
       "<matplotlib.figure.Figure at 0xbba4b70>"
      ]
     },
     "metadata": {},
     "output_type": "display_data"
    }
   ],
   "source": [
    "#correlation or ROCs with RC, OBP \n",
    "corr_button = widgets.Button(description=\"Plot stats\")\n",
    "display(corr_button)\n",
    "\n",
    "def on_corr_button_clicked(b):\n",
    "    clear_output()\n",
    "    choice1 = c1.value\n",
    "    choice2 = c2.value\n",
    "\n",
    "    fig, axes = plt.subplots(nrows=1, ncols=1, figsize=(6,6))\n",
    "    axes.scatter(statsDF[choice1], statsDF[choice2], color = \"steelblue\")\n",
    "    axes.grid(alpha=0.25)\n",
    "    axes.set_xlabel(choice1, fontsize=16)\n",
    "    axes.set_ylabel(choice2, fontsize=16)\n",
    "    axes.set_title(choice1+ \" vs. \" + choice2, fontsize=16)\n",
    "\n",
    "    c = statsDF[choice1].corr(statsDF[choice2], method='pearson')\n",
    "    print(\"Correlation between\", choice1, \"and\", choice2, \":\" ,c)\n",
    "\n",
    "corr_button.on_click(on_corr_button_clicked)"
   ]
  },
  {
   "cell_type": "markdown",
   "metadata": {},
   "source": [
    "Full correlation table:"
   ]
  },
  {
   "cell_type": "code",
   "execution_count": 37,
   "metadata": {},
   "outputs": [
    {
     "data": {
      "text/html": [
       "<div>\n",
       "<table border=\"1\" class=\"dataframe\">\n",
       "  <thead>\n",
       "    <tr style=\"text-align: right;\">\n",
       "      <th></th>\n",
       "      <th>RC</th>\n",
       "      <th>OBP</th>\n",
       "      <th>2ROC</th>\n",
       "      <th>3ROC</th>\n",
       "      <th>4ROC</th>\n",
       "    </tr>\n",
       "  </thead>\n",
       "  <tbody>\n",
       "    <tr>\n",
       "      <th>RC</th>\n",
       "      <td>1.000000</td>\n",
       "      <td>0.444398</td>\n",
       "      <td>0.220340</td>\n",
       "      <td>0.403546</td>\n",
       "      <td>0.189753</td>\n",
       "    </tr>\n",
       "    <tr>\n",
       "      <th>OBP</th>\n",
       "      <td>0.444398</td>\n",
       "      <td>1.000000</td>\n",
       "      <td>0.239780</td>\n",
       "      <td>0.424737</td>\n",
       "      <td>0.360810</td>\n",
       "    </tr>\n",
       "    <tr>\n",
       "      <th>2ROC</th>\n",
       "      <td>0.220340</td>\n",
       "      <td>0.239780</td>\n",
       "      <td>1.000000</td>\n",
       "      <td>0.379400</td>\n",
       "      <td>0.650344</td>\n",
       "    </tr>\n",
       "    <tr>\n",
       "      <th>3ROC</th>\n",
       "      <td>0.403546</td>\n",
       "      <td>0.424737</td>\n",
       "      <td>0.379400</td>\n",
       "      <td>1.000000</td>\n",
       "      <td>0.399572</td>\n",
       "    </tr>\n",
       "    <tr>\n",
       "      <th>4ROC</th>\n",
       "      <td>0.189753</td>\n",
       "      <td>0.360810</td>\n",
       "      <td>0.650344</td>\n",
       "      <td>0.399572</td>\n",
       "      <td>1.000000</td>\n",
       "    </tr>\n",
       "  </tbody>\n",
       "</table>\n",
       "</div>"
      ],
      "text/plain": [
       "            RC       OBP      2ROC      3ROC      4ROC\n",
       "RC    1.000000  0.444398  0.220340  0.403546  0.189753\n",
       "OBP   0.444398  1.000000  0.239780  0.424737  0.360810\n",
       "2ROC  0.220340  0.239780  1.000000  0.379400  0.650344\n",
       "3ROC  0.403546  0.424737  0.379400  1.000000  0.399572\n",
       "4ROC  0.189753  0.360810  0.650344  0.399572  1.000000"
      ]
     },
     "execution_count": 37,
     "metadata": {},
     "output_type": "execute_result"
    }
   ],
   "source": [
    "statsDF.drop(['firstName', 'lastName'], axis=1).corr(method='pearson')"
   ]
  },
  {
   "cell_type": "markdown",
   "metadata": {},
   "source": [
    "# Looking at unique sequences \n",
    "***\n",
    "We can look at sequences of our design here. Inputting each event will show the percentage frequency of that event in that order of the sequence, as well as the probability of transitioning between each one. Finally, we can see the probability of observing the sequence as a whole. \n",
    "Remember, the values shown are relative to the order. A single in the first event has a different frequency than a single in the second event. \n",
    "\n",
    "Select number of events to evaluate in the first dropdown. \n",
    "\n",
    "In the subsequent dropdowns, pick the events. \n",
    "\n",
    "Boxes exceeding the number of events chosen will be ignored. "
   ]
  },
  {
   "cell_type": "code",
   "execution_count": 48,
   "metadata": {
    "collapsed": true
   },
   "outputs": [],
   "source": [
    "nGram = widgets.Dropdown(options=[2,3,4], description=\"Number of events\")\n",
    "nGram"
   ]
  },
  {
   "cell_type": "code",
   "execution_count": 49,
   "metadata": {
    "collapsed": true
   },
   "outputs": [],
   "source": [
    "e1 = widgets.Dropdown(options=listOfEventsLong, description=\"Event 1\")\n",
    "e1"
   ]
  },
  {
   "cell_type": "code",
   "execution_count": 50,
   "metadata": {
    "collapsed": true
   },
   "outputs": [],
   "source": [
    "e2 = widgets.Dropdown(options=listOfEventsLong, description=\"Event 2\")\n",
    "e2"
   ]
  },
  {
   "cell_type": "code",
   "execution_count": 51,
   "metadata": {
    "collapsed": true
   },
   "outputs": [],
   "source": [
    "e3 = widgets.Dropdown(options=listOfEventsLong, description=\"Event 3\")\n",
    "e3"
   ]
  },
  {
   "cell_type": "code",
   "execution_count": 52,
   "metadata": {
    "collapsed": true
   },
   "outputs": [],
   "source": [
    "e4 = widgets.Dropdown(options=listOfEventsLong, description=\"Event 4\")\n",
    "e4"
   ]
  },
  {
   "cell_type": "code",
   "execution_count": 62,
   "metadata": {},
   "outputs": [
    {
     "name": "stdout",
     "output_type": "stream",
     "text": [
      "Frequencies of\n",
      "Out : 0.26545519330126494\n",
      "SB : 0.0025589945418913883\n",
      "\n",
      "\n",
      "Probability of transitioning from \n",
      "Out to SB : 0.00214\n",
      "\n",
      "\n",
      "Probability of seeing this sequence [result in a run]\n",
      "0.00057 %\n"
     ]
    }
   ],
   "source": [
    "seq_button = widgets.Button(description=\"Show sequence info\")\n",
    "display(seq_button)\n",
    "\n",
    "def on_seq_button_clicked(b):\n",
    "    clear_output()\n",
    "    n = nGram.value\n",
    "    inputSeqsCd = []\n",
    "    inputSeqs = []\n",
    "    inputSeqsLong = [e1.value, e2.value]\n",
    "\n",
    "    if n >= 3:\n",
    "        inputSeqsLong.append(e3.value)\n",
    "    if n == 4:\n",
    "        inputSeqsLong.append(e4.value)\n",
    "    \n",
    "\n",
    "    for s in inputSeqsLong:\n",
    "        inputSeqsCd.append(eventCodesDictLong[s])\n",
    "        inputSeqs.append(eventCodesDictReversedFull[eventCodesDictLong[s]][0])\n",
    "\n",
    "    print(\"Frequencies of\")\n",
    "    if n == 2: \n",
    "        print(str(inputSeqs[0]), \":\", float(eventFreq2_1[inputSeqsCd[0]]) / float(total2))\n",
    "        print(str(inputSeqs[1]), \":\", float(eventFreq2_2[inputSeqsCd[1]]) / float(total2))\n",
    "    elif n == 3: \n",
    "        print(str(inputSeqs[0]), \":\", float(eventFreq3_1[inputSeqsCd[0]]) / float(total3))\n",
    "        print(str(inputSeqs[1]), \":\", float(eventFreq3_2[inputSeqsCd[1]]) / float(total3))\n",
    "        print(str(inputSeqs[2]), \":\", float(eventFreq3_3[inputSeqsCd[2]]) / float(total3))\n",
    "    elif n == 4: \n",
    "        print(str(inputSeqs[0]), \":\", float(eventFreq4_1[inputSeqsCd[0]]) / float(total4))\n",
    "        print(str(inputSeqs[1]), \":\", float(eventFreq4_2[inputSeqsCd[1]]) / float(total4))\n",
    "        print(str(inputSeqs[2]), \":\", float(eventFreq4_3[inputSeqsCd[2]]) / float(total4))\n",
    "        print(str(inputSeqs[3]), \":\", float(eventFreq4_4[inputSeqsCd[3]]) / float(total4))\n",
    "    print(\"\\n\")\n",
    "\n",
    "    print(\"Probability of transitioning from \")\n",
    "    if n == 2: \n",
    "        if inputSeqsCd[0] in trans2_1to2.keys() and inputSeqsCd[1] in trans2_1to2[inputSeqsCd[0]].keys():\n",
    "            print(str(inputSeqs[0]), \"to\", str(inputSeqs[1]), \":\", trans2_1to2[inputSeqsCd[0]][inputSeqsCd[1]])\n",
    "        else:\n",
    "            print(str(inputSeqs[0]), \"to\", str(inputSeqs[1]), \": 0\")\n",
    "        \n",
    "        s = str(inputSeqsCd[0]) + \"_\" + str(inputSeqsCd[1]) \n",
    "        print(\"\\n\")\n",
    "        print(\"Probability of seeing this sequence [result in a run]\")\n",
    "        if s in hashable2Seqs.keys():\n",
    "            print(round(float(hashable2Seqs[s])/float(total2),5), \"%\")\n",
    "        else:\n",
    "            print(\"0%\")\n",
    "    if n == 3: \n",
    "        if inputSeqsCd[0] in trans3_1to2.keys() and inputSeqsCd[1] in trans3_1to2[inputSeqsCd[0]].keys():\n",
    "            print(str(inputSeqs[0]), \"to\", str(inputSeqs[1]), \":\", trans3_1to2[inputSeqsCd[0]][inputSeqsCd[1]])\n",
    "        else:\n",
    "            print(str(inputSeqs[0]), \"to\", str(inputSeqs[1]), \": 0\")\n",
    "    \n",
    "        if inputSeqsCd[1] in trans3_2to3.keys() and inputSeqsCd[2] in trans3_2to3[inputSeqsCd[1]].keys():\n",
    "            print(str(inputSeqs[1]), \"to\", str(inputSeqs[2]), \":\", trans3_2to3[inputSeqsCd[1]][inputSeqsCd[2]])\n",
    "        else:\n",
    "            print(str(inputSeqs[1]), \"to\", str(inputSeqs[2]), \": 0\")\n",
    "\n",
    "        s = str(inputSeqsCd[0]) + \"_\" + str(inputSeqsCd[1]) + \"_\" +str(inputSeqsCd[2]) \n",
    "        print(\"\\n\")\n",
    "        print(\"Probability of seeing this sequence [result in a run]\")\n",
    "        if s in hashable3Seqs.keys():\n",
    "            print(round(float(hashable3Seqs[s])/float(total3),5), \"%\")\n",
    "        else:\n",
    "            print(\"0%\")\n",
    "    elif n == 4:\n",
    "        if inputSeqsCd[0] in trans4_1to2.keys() and inputSeqsCd[1] in trans4_1to2[inputSeqsCd[0]].keys():\n",
    "            print(str(inputSeqs[0]), \"to\", str(inputSeqs[1]), \":\", trans4_1to2[inputSeqsCd[0]][inputSeqsCd[1]])\n",
    "        else:\n",
    "            print(str(inputSeqs[0]), \"to\", str(inputSeqs[1]), \": 0\")\n",
    "        \n",
    "        if inputSeqsCd[1] in trans4_2to3.keys() and inputSeqsCd[2] in trans4_2to3[inputSeqsCd[1]].keys():\n",
    "            print(str(inputSeqs[1]), \"to\", str(inputSeqs[2]), \":\", trans4_2to3[inputSeqsCd[1]][inputSeqsCd[2]])\n",
    "        else:\n",
    "            print(str(inputSeqs[1]), \"to\", str(inputSeqs[2]), \": 0\")    \n",
    "        \n",
    "        if inputSeqsCd[2] in trans4_3to4.keys() and inputSeqsCd[3] in trans4_3to4[inputSeqsCd[2]].keys():\n",
    "            print(str(inputSeqs[2]), \"to\", str(inputSeqs[3]), \":\", trans4_3to4[inputSeqsCd[2]][inputSeqsCd[3]])\n",
    "        else:\n",
    "            print(str(inputSeqs[2]), \"to\", str(inputSeqs[3]), \": 0\") \n",
    "\n",
    "        s = str(inputSeqsCd[0]) + \"_\" + str(inputSeqsCd[1]) + \"_\" +str(inputSeqsCd[2]) + \"_\" + str(inputSeqsCd[3]) \n",
    "        print(\"\\n\")\n",
    "        print(\"Probability of seeing this sequence [result in a run]\")\n",
    "        if s in hashable4Seqs.keys():\n",
    "            print(round(float(hashable4Seqs[s])/float(total4),5) * 100, \"%\")\n",
    "        else:\n",
    "            print(\"0%\")\n",
    "        \n",
    "seq_button.on_click(on_seq_button_clicked)"
   ]
  },
  {
   "cell_type": "markdown",
   "metadata": {},
   "source": [
    "# Looking At Player Stats \n",
    "***\n",
    "We can also input a player (between 2010 and 2013) to see what their scores would be for RC (run created), OBP (on base percentage), and each Ngram of ROC. \n",
    "\n",
    "Please check allStats.csv for a full list of available names."
   ]
  },
  {
   "cell_type": "code",
   "execution_count": 56,
   "metadata": {
    "collapsed": true
   },
   "outputs": [],
   "source": [
    "inputName = widgets.Dropdown(options=playerNames)\n",
    "inputName"
   ]
  },
  {
   "cell_type": "code",
   "execution_count": 59,
   "metadata": {},
   "outputs": [
    {
     "name": "stdout",
     "output_type": "stream",
     "text": [
      "Zack Greinke\n",
      "Runs created:  2.20512820513\n",
      "OBP:  0.278481012658\n",
      "Run Opportunities created in 2 events:  0.0248995812\n",
      "Run Opportunities created in 3 events:  0.0194657592\n",
      "Run Opportunities created in 4 events:  0.0289656545\n"
     ]
    }
   ],
   "source": [
    "button = widgets.Button(description=\"Look up player\")\n",
    "display(button)\n",
    "\n",
    "#player = \"Patrick Corbin\"\n",
    "def on_button_clicked(b):\n",
    "    clear_output()\n",
    "    player = inputName.value\n",
    "    player = player.split()\n",
    "\n",
    "    first = player[0]\n",
    "    last= player[1]\n",
    "\n",
    "    for line in range(0,len(statsDF)):\n",
    "        if statsDF['firstName'][line] == first and statsDF['lastName'][line] == last:\n",
    "            print(statsDF['firstName'][line], statsDF['lastName'][line])\n",
    "            print(\"Runs created: \", statsDF['RC'][line])\n",
    "            print(\"OBP: \", statsDF['OBP'][line])\n",
    "            print(\"Run Opportunities created in 2 events: \", statsDF['2ROC'][line])\n",
    "            print(\"Run Opportunities created in 3 events: \",statsDF['3ROC'][line])\n",
    "            print(\"Run Opportunities created in 4 events: \",statsDF['4ROC'][line])\n",
    "        \n",
    "button.on_click(on_button_clicked)"
   ]
  },
  {
   "cell_type": "code",
   "execution_count": null,
   "metadata": {
    "collapsed": true
   },
   "outputs": [],
   "source": []
  }
 ],
 "metadata": {
  "anaconda-cloud": {},
  "kernelspec": {
   "display_name": "Python 3",
   "language": "python",
   "name": "python3"
  },
  "language_info": {
   "codemirror_mode": {
    "name": "ipython",
    "version": 3
   },
   "file_extension": ".py",
   "mimetype": "text/x-python",
   "name": "python",
   "nbconvert_exporter": "python",
   "pygments_lexer": "ipython3",
   "version": "3.4.5"
  }
 },
 "nbformat": 4,
 "nbformat_minor": 1
}

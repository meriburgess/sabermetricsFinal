{
 "cells": [
  {
   "cell_type": "markdown",
   "metadata": {},
   "source": [
    "# Run Opportunities Created-  A new baseball statistic\n",
    "***\n",
    "This is a Sabermetrics final project by Meredith Burgess"
   ]
  },
  {
   "cell_type": "code",
   "execution_count": 45,
   "metadata": {
    "collapsed": true
   },
   "outputs": [],
   "source": [
    "import pandas as pd \n",
    "import numpy as np\n",
    "import matplotlib.pylab as plt\n",
    "import ipywidgets as widgets\n",
    "from ipywidgets import *\n",
    "from IPython.display import display, HTML\n",
    "%matplotlib inline"
   ]
  },
  {
   "cell_type": "code",
   "execution_count": 31,
   "metadata": {},
   "outputs": [
    {
     "data": {
      "text/html": [
       "<script>\n",
       "code_show=true; \n",
       "function code_toggle() {\n",
       " if (code_show){\n",
       " $('div.input').hide();\n",
       " } else {\n",
       " $('div.input').show();\n",
       " }\n",
       " code_show = !code_show\n",
       "} \n",
       "$( document ).ready(code_toggle);\n",
       "</script>\n",
       "The raw code for this IPython notebook is by default hidden for easier reading.\n",
       "To toggle on/off the raw code, click <a href=\"javascript:code_toggle()\">here</a>."
      ],
      "text/plain": [
       "<IPython.core.display.HTML object>"
      ]
     },
     "execution_count": 31,
     "metadata": {},
     "output_type": "execute_result"
    }
   ],
   "source": [
    "HTML('''<script>\n",
    "code_show=true; \n",
    "function code_toggle() {\n",
    " if (code_show){\n",
    " $('div.input').hide();\n",
    " } else {\n",
    " $('div.input').show();\n",
    " }\n",
    " code_show = !code_show\n",
    "} \n",
    "$( document ).ready(code_toggle);\n",
    "</script>\n",
    "The raw code for this IPython notebook is by default hidden for easier reading.\n",
    "To toggle on/off the raw code, click <a href=\"javascript:code_toggle()\">here</a>.''')"
   ]
  },
  {
   "cell_type": "code",
   "execution_count": 35,
   "metadata": {
    "collapsed": true
   },
   "outputs": [],
   "source": [
    "import pandas as pd \n",
    "import numpy as np\n",
    "import matplotlib.pylab as plt\n",
    "import matplotlib.ticker as tk\n",
    "import operator\n",
    "import ipywidgets as widgets\n",
    "from ipywidgets import interact, interactive, fixed, interact_manual\n",
    "from IPython.display import display\n",
    "%matplotlib inline"
   ]
  },
  {
   "cell_type": "code",
   "execution_count": 8,
   "metadata": {
    "collapsed": true
   },
   "outputs": [],
   "source": [
    "#lists and dictionaries \n",
    "listOfEvents = [\"Out\", \"K\", \"SB\", \"DI\", \"CS\", \"PK\", \"WP\", \"PB\", \"BK\", \"OA\", \"FE\", \"NIBB\", \"IBB\", \"HBP\", \"XI\",\n",
    "\"ROE\", \"FC\", \"1B\", \"2B\", \"3B\", \"HR\" ]\n",
    "listOfEventsLong = [\"Generic Out\", \"Strikeout\", \"Stolen Base\", \"Defensive Indifference\", \"Caught Stealing\", \"Pickoff\", \"Wild Pitch\", \"Passed Ball\",\n",
    "\"Balk\", \"Other Advance\", \"Foul Error\", \"Nonintentional Walk\", \"Intentional Walk\", \"Hit By Pitch\", \"Interference\", \"Error\", \"Fielder Choice\",\n",
    "\"Single\", \"Double\", \"Triple\", \"Homerun\"]\n",
    "eventCodes = [2, 3, 4, 5, 6, 8, 9, 10, 11, 12, 13, 14, 15, 16, 17, 18, 19, 20, 21, 22, 23]\n",
    "eventCodesDict = {\"Out\":2, \"K\":3, \"SB\":4, \"DI\":5, \"CS\":6, \"PK\":8, \"WP\":9, \"PB\":10, \"BK\":11, \"OA\":12, \n",
    "\"FE\":13, \"NIBB\":14, \"IBB\":15, \"HBP\":16, \"XI\":17,\"ROE\":18, \"FC\":19, \"1B\":20, \"2B\":21, \"3B\":22, \"HR\":23}\n",
    "eventCodesDictReversedFull = {2:[\"Out\",\"Out\"], 3:[\"K\", \"Strikeout\"], 4:[\"SB\", \"Stolen Base\"], 5:[\"DI\", \"Defensive Indifference\"],\n",
    "6:[\"CS\", \"Caught Stealing\"], 8:[\"PK\", \"Pickoff\"], 9:[\"WP\", \"Wild Pitch\"], 10:[\"PB\", \"Passed Ball\"], 11:[\"BK\", \"Balk\"], 12:[\"OA\", \"Other Advance\"], \n",
    "13:[\"FE\", \"Foul Error\"], 14:[\"NIBB\", \"Nonintentional Walk\"], 15:[\"IBB\", \"Intentional Walk\"], 16:[\"HBP\", \"Hit by pitch\"], \n",
    "17:[\"XI\", \"Interference\"],18:[\"ROE\", \"Error\"], 19:[\"FC\", \"Fielder Choice\"], 20:[\"1B\", \"Single\"], 21:[\"2B\", \"Double\"],\n",
    "22:[\"3B\", \"Triple\"], 23:[\"HR\", \"Homerun\"]}\n",
    "\n",
    "#load files \n",
    "events2DF = pd.read_csv('2gramofevents.csv')\n",
    "events3DF = pd.read_csv('3gramofevents.csv')\n",
    "events4DF = pd.read_csv('4gramofevents.csv')\n",
    "\n",
    "#set lengths \n",
    "total2 = len(events2DF)\n",
    "total3 = len(events3DF)\n",
    "total4 = len(events4DF)\n"
   ]
  },
  {
   "cell_type": "markdown",
   "metadata": {},
   "source": [
    "# Event frequencies\n",
    "***\n",
    "Here we look at event frequences of each event in each slot of a window (2, 3, or 4).\n",
    "Each histogram shows the frequency of each event. \n"
   ]
  },
  {
   "cell_type": "code",
   "execution_count": 11,
   "metadata": {
    "collapsed": true
   },
   "outputs": [],
   "source": [
    "eventFreq2 = {}\n",
    "eventFreq3 = {}\n",
    "eventFreq4 = {}\n",
    "\n",
    "eventFreq2_1 = {}\n",
    "eventFreq2_2 = {}\n",
    "\n",
    "eventFreq3_1 = {}\n",
    "eventFreq3_2 = {}\n",
    "eventFreq3_3 = {}\n",
    "\n",
    "eventFreq4_1 = {}\n",
    "eventFreq4_2 = {}\n",
    "eventFreq4_3 = {}\n",
    "eventFreq4_4 = {}\n",
    "\n",
    "for v in eventCodes:\n",
    "    eventFreq2[v] = 0\n",
    "    eventFreq3[v] = 0\n",
    "    eventFreq4[v] = 0\n",
    "    \n",
    "    eventFreq2_1[v] = 0\n",
    "    eventFreq2_2[v] = 0\n",
    "    eventFreq3_1[v] = 0\n",
    "    eventFreq3_2[v] = 0\n",
    "    eventFreq3_3[v] = 0\n",
    "    eventFreq4_1[v] = 0\n",
    "    eventFreq4_2[v] = 0\n",
    "    eventFreq4_3[v] = 0\n",
    "    eventFreq4_4[v] = 0\n",
    "\n",
    "for v in range(0, total2):\n",
    "    eventFreq2[events2DF['event_cd'][v]] += 1\n",
    "    eventFreq2[events2DF['eventCD2'][v]] += 1\n",
    "    \n",
    "    eventFreq2_1[events2DF['event_cd'][v]] += 1\n",
    "    eventFreq2_2[events2DF['eventCD2'][v]] += 1\n",
    "    \n",
    "for v in range(0, total3):\n",
    "    eventFreq3[events3DF['event_cd'][v]] += 1\n",
    "    eventFreq3[events3DF['eventCD2'][v]] += 1\n",
    "    eventFreq3[events3DF['eventCD3'][v]] += 1\n",
    "    \n",
    "    eventFreq3_1[events3DF['event_cd'][v]] += 1\n",
    "    eventFreq3_2[events3DF['eventCD2'][v]] += 1\n",
    "    eventFreq3_3[events3DF['eventCD3'][v]] += 1\n",
    "    \n",
    "for v in range(0, total4):\n",
    "    eventFreq4[events4DF['event_cd'][v]] += 1\n",
    "    eventFreq4[events4DF['eventCD2'][v]] += 1\n",
    "    eventFreq4[events4DF['eventCD3'][v]] += 1\n",
    "    eventFreq4[events4DF['eventCD4'][v]] += 1\n",
    "    \n",
    "    eventFreq4_1[events4DF['event_cd'][v]] += 1\n",
    "    eventFreq4_2[events4DF['eventCD2'][v]] += 1\n",
    "    eventFreq4_3[events4DF['eventCD3'][v]] += 1\n",
    "    eventFreq4_4[events4DF['eventCD4'][v]] += 1\n",
    "    \n",
    "eventNameFreq2 = {}\n",
    "eventNameFreq3 = {}\n",
    "eventNameFreq4 = {}\n",
    "\n",
    "eventNameFreq2_1 = {}\n",
    "eventNameFreq2_2 = {}\n",
    "\n",
    "eventNameFreq3_1 = {}\n",
    "eventNameFreq3_2 = {}\n",
    "eventNameFreq3_3 = {}\n",
    "\n",
    "eventNameFreq4_1 = {}\n",
    "eventNameFreq4_2 = {}\n",
    "eventNameFreq4_3 = {}\n",
    "eventNameFreq4_4 = {}\n",
    "\n",
    "for n in listOfEvents:\n",
    "    k = eventCodesDict[n]\n",
    "    eventNameFreq2[n] = float(eventFreq2[k]) / float(total2*2)\n",
    "    eventNameFreq3[n] = float(eventFreq3[k]) / float(total3*3)\n",
    "    eventNameFreq4[n] = float(eventFreq4[k]) / float(total4*4)\n",
    "    \n",
    "    eventNameFreq2_1[n] = float(eventFreq2_1[k]) / float(total2)\n",
    "    eventNameFreq2_2[n] = float(eventFreq2_2[k]) / float(total2)\n",
    "\n",
    "    eventNameFreq3_1[n] = float(eventFreq3_1[k]) / float(total3)\n",
    "    eventNameFreq3_2[n] = float(eventFreq3_2[k]) / float(total3)\n",
    "    eventNameFreq3_3[n] = float(eventFreq3_3[k]) / float(total3)\n",
    "\n",
    "    eventNameFreq4_1[n] = float(eventFreq4_1[k]) / float(total4)\n",
    "    eventNameFreq4_2[n] = float(eventFreq4_2[k]) / float(total4)\n",
    "    eventNameFreq4_3[n] = float(eventFreq4_3[k]) / float(total4)\n",
    "    eventNameFreq4_4[n] = float(eventFreq4_4[k]) / float(total4)"
   ]
  },
  {
   "cell_type": "markdown",
   "metadata": {},
   "source": [
    "First, we can see the overall frequencies of events in each n-gram of events, regardless of placement in the sequence. "
   ]
  },
  {
   "cell_type": "code",
   "execution_count": 46,
   "metadata": {},
   "outputs": [
    {
     "data": {
      "image/png": "[encoded data removed]",
      "text/plain": [
       "<matplotlib.figure.Figure at 0xd71e518>"
      ]
     },
     "metadata": {},
     "output_type": "display_data"
    }
   ],
   "source": [
    "fig, ax = plt.subplots(3, 1, figsize=(10,10), sharey=True, sharex=True)\n",
    "ax[0].bar(list(eventFreq2.keys()), list(eventNameFreq2.values()), align='center')\n",
    "ax[1].bar(list(eventFreq3.keys()), list(eventNameFreq3.values()), align='center')\n",
    "ax[2].bar(list(eventFreq4.keys()), list(eventNameFreq4.values()), align='center')\n",
    "\n",
    "plt.xticks(list(eventFreq2.keys()), list(eventNameFreq2.keys()))\n",
    "plt.xlabel(\"Events\")\n",
    "plt.ylabel(\"Frequency\")\n",
    "fig.suptitle(\"Overall frequency of events in windows of 2, 3, and 4\")\n",
    "plt.show()"
   ]
  },
  {
   "cell_type": "markdown",
   "metadata": {},
   "source": [
    "Next, we can look at the order specific frequencies. By this, we mean looking at the counts of, say, a 1B in either the first, second, third, or fourth slot of a window of events. We do this because in a certain sense, order matters. "
   ]
  },
  {
   "cell_type": "code",
   "execution_count": 47,
   "metadata": {},
   "outputs": [
    {
     "data": {
      "image/png": "[encoded data removed]",
      "text/plain": [
       "<matplotlib.figure.Figure at 0xb982e10>"
      ]
     },
     "metadata": {},
     "output_type": "display_data"
    }
   ],
   "source": [
    "fig, ax = plt.subplots(2, 1, figsize=(10,5), sharey=True, sharex=True)\n",
    "ax[0].bar(list(eventFreq2_1.keys()), list(eventNameFreq2_1.values()), align='center')\n",
    "ax[1].bar(list(eventFreq2_2.keys()), list(eventNameFreq2_2.values()), align='center')\n",
    "\n",
    "plt.xticks(list(eventFreq2_1.keys()), list(eventNameFreq2_1.keys()))\n",
    "plt.xlabel(\"Events\")\n",
    "plt.ylabel(\"Frequency\")\n",
    "fig.suptitle(\"Frequency of events in in frame 1 and 2 in windows of 2\")\n",
    "plt.show()"
   ]
  },
  {
   "cell_type": "code",
   "execution_count": 48,
   "metadata": {},
   "outputs": [
    {
     "data": {
      "image/png": "[encoded data removed]",
      "text/plain": [
       "<matplotlib.figure.Figure at 0xa22cc18>"
      ]
     },
     "metadata": {},
     "output_type": "display_data"
    }
   ],
   "source": [
    "fig, ax = plt.subplots(3, 1, figsize=(10,6), sharey=True, sharex=True)\n",
    "ax[0].bar(list(eventFreq3_1.keys()), list(eventNameFreq3_1.values()), align='center')\n",
    "ax[1].bar(list(eventFreq3_2.keys()), list(eventNameFreq3_2.values()), align='center')\n",
    "ax[2].bar(list(eventFreq3_3.keys()), list(eventNameFreq3_3.values()), align='center')\n",
    "\n",
    "plt.xticks(list(eventFreq3_1.keys()), list(eventNameFreq3_1.keys()))\n",
    "plt.xlabel(\"Events\")\n",
    "plt.ylabel(\"Frequency\")\n",
    "fig.suptitle(\"Frequency of events in in frame 1, 2, and 3 in windows of 3\")\n",
    "plt.show()"
   ]
  },
  {
   "cell_type": "code",
   "execution_count": 49,
   "metadata": {},
   "outputs": [
    {
     "data": {
      "image/png": "[encoded data removed]",
      "text/plain": [
       "<matplotlib.figure.Figure at 0x5030eb8>"
      ]
     },
     "metadata": {},
     "output_type": "display_data"
    }
   ],
   "source": [
    "fig, ax = plt.subplots(4, 1, figsize=(10,7), sharey=True, sharex=True)\n",
    "ax[0].bar(list(eventFreq4_1.keys()), list(eventNameFreq4_1.values()), align='center')\n",
    "ax[1].bar(list(eventFreq4_2.keys()), list(eventNameFreq4_2.values()), align='center')\n",
    "ax[2].bar(list(eventFreq4_3.keys()), list(eventNameFreq4_3.values()), align='center')\n",
    "ax[3].bar(list(eventFreq4_3.keys()), list(eventNameFreq4_3.values()), align='center')\n",
    "\n",
    "plt.xticks(list(eventFreq4_1.keys()), list(eventNameFreq4_1.keys()))\n",
    "plt.xlabel(\"Events\")\n",
    "plt.ylabel(\"Frequency\")\n",
    "fig.suptitle(\"Frequency of events in in frame 1, 2, 3, and 4 in windows of 4\")\n",
    "plt.show()"
   ]
  },
  {
   "cell_type": "markdown",
   "metadata": {},
   "source": [
    "# Transition Matrices\n",
    "***\n",
    "We can also look at transitions between events and the probability of one event transitioning to another. The colored grids show each event and the likelihood of transitioning to another. More yellow colors indicate a higher probability of transition, while darker blue colors indicate a lower likelihood. \n"
   ]
  },
  {
   "cell_type": "code",
   "execution_count": 16,
   "metadata": {},
   "outputs": [
    {
     "name": "stdout",
     "output_type": "stream",
     "text": [
      "Done\n"
     ]
    }
   ],
   "source": [
    "#transition matrices \n",
    "\n",
    "trans2_1to2 = {}\n",
    "\n",
    "trans3_1to2 = {}\n",
    "trans3_2to3 = {}\n",
    "\n",
    "trans4_1to2 = {}\n",
    "trans4_2to3 = {}\n",
    "trans4_3to4 = {}\n",
    "\n",
    "#for counting of unique sequences\n",
    "hashable2Seqs = {}\n",
    "hashable3Seqs = {}\n",
    "hashable4Seqs = {}\n",
    "\n",
    "for i in range(2, 24):\n",
    "    trans2_1to2[i] = {}\n",
    "\n",
    "    trans3_1to2[i] = {}\n",
    "    trans3_2to3[i] = {}\n",
    "\n",
    "    trans4_1to2[i] = {}\n",
    "    trans4_2to3[i] = {}\n",
    "    trans4_3to4[i] = {}\n",
    "\n",
    "#count transitions\n",
    "for v in range(0, total2):\n",
    "    e1 = events2DF['event_cd'][v]\n",
    "    e2 = events2DF['eventCD2'][v]\n",
    "    trans2_1to2[e1][e2] = trans2_1to2[e1].get(e2, 0) + 1\n",
    "    hashable2Seqs[str(e1) + \"_\" + str(e2)] = hashable2Seqs.get(str(e1) + \"_\" + str(e2), 0) + 1\n",
    "    \n",
    "for v in range(0, total3):\n",
    "    e1 = events3DF['event_cd'][v]\n",
    "    e2 = events3DF['eventCD2'][v]\n",
    "    e3 = events3DF['eventCD3'][v]\n",
    "    trans3_1to2[e1][e2] = trans3_1to2[e1].get(e2, 0) + 1\n",
    "    trans3_2to3[e2][e3] = trans3_2to3[e2].get(e3, 0) + 1\n",
    "    hashable3Seqs[str(e1) + \"_\" + str(e2) + \"_\" + str(e3)] = hashable3Seqs.get(str(e1) + \"_\" + str(e2) + \"_\" + str(e3), 0) + 1\n",
    "    \n",
    "for v in range(0, total4):\n",
    "    e1 = events4DF['event_cd'][v]\n",
    "    e2 = events4DF['eventCD2'][v]\n",
    "    e3 = events4DF['eventCD3'][v]\n",
    "    e4 = events4DF['eventCD4'][v]\n",
    "    trans4_1to2[e1][e2] = trans4_1to2[e1].get(e2, 0) + 1\n",
    "    trans4_2to3[e2][e3] = trans4_2to3[e2].get(e3, 0) + 1\n",
    "    trans4_3to4[e3][e4] = trans4_3to4[e3].get(e4, 0) + 1\n",
    "    hashable4Seqs[str(e1) + \"_\" + str(e2) + \"_\" + str(e3) +\"_\" + str(e4)] = hashable4Seqs.get(str(e1) + \"_\" + str(e2) + \"_\" + str(e3) + \"_\" + str(e4), 0) + 1\n",
    "\n",
    "    \n",
    "#normalize \n",
    "for k in range(2, 24):\n",
    "    total = 0\n",
    "    for k2 in trans2_1to2[k].keys():\n",
    "        total += trans2_1to2[k][k2]\n",
    "    for k2 in trans2_1to2[k].keys():\n",
    "        trans2_1to2[k][k2] = round(float(trans2_1to2[k][k2])/ float(total), 5)\n",
    "        \n",
    "    total = 0\n",
    "    for k2 in trans3_1to2[k].keys():\n",
    "        total += trans3_1to2[k][k2]\n",
    "    for k2 in trans3_1to2[k].keys():\n",
    "        trans3_1to2[k][k2] = round(float(trans3_1to2[k][k2])/ float(total), 5)\n",
    "    total = 0\n",
    "    for k2 in trans3_2to3[k].keys():\n",
    "        total += trans3_2to3[k][k2]\n",
    "    for k2 in trans3_2to3[k].keys():\n",
    "        trans3_2to3[k][k2] = round(float(trans3_2to3[k][k2])/ float(total), 5)\n",
    "        \n",
    "    total = 0\n",
    "    for k2 in trans4_1to2[k].keys():\n",
    "        total += trans4_1to2[k][k2]\n",
    "    for k2 in trans4_1to2[k].keys():\n",
    "        trans4_1to2[k][k2] = round(float(trans4_1to2[k][k2])/ float(total), 5)\n",
    "    total = 0\n",
    "    for k2 in trans4_2to3[k].keys():\n",
    "        total += trans4_2to3[k][k2]\n",
    "    for k2 in trans4_2to3[k].keys():\n",
    "        trans4_2to3[k][k2] = round(float(trans4_2to3[k][k2])/ float(total), 5)\n",
    "    total = 0\n",
    "    for k2 in trans4_3to4[k].keys():\n",
    "        total += trans4_3to4[k][k2]\n",
    "    for k2 in trans4_3to4[k].keys():\n",
    "        trans4_3to4[k][k2] = round(float(trans4_3to4[k][k2])/ float(total), 5)"
   ]
  },
  {
   "cell_type": "code",
   "execution_count": 41,
   "metadata": {},
   "outputs": [
    {
     "data": {
      "image/png": "[encoded data removed]",
      "text/plain": [
       "<matplotlib.figure.Figure at 0xbf81f98>"
      ]
     },
     "metadata": {},
     "output_type": "display_data"
    },
    {
     "data": {
      "image/png": "[encoded data removed]",
      "text/plain": [
       "<matplotlib.figure.Figure at 0xb950940>"
      ]
     },
     "metadata": {},
     "output_type": "display_data"
    },
    {
     "data": {
      "image/png": "[encoded data removed]",
      "text/plain": [
       "<matplotlib.figure.Figure at 0xba24b00>"
      ]
     },
     "metadata": {},
     "output_type": "display_data"
    },
    {
     "data": {
      "image/png": "[encoded data removed]",
      "text/plain": [
       "<matplotlib.figure.Figure at 0xd6ee3c8>"
      ]
     },
     "metadata": {},
     "output_type": "display_data"
    },
    {
     "data": {
      "image/png": "[encoded data removed]",
      "text/plain": [
       "<matplotlib.figure.Figure at 0xbe5eba8>"
      ]
     },
     "metadata": {},
     "output_type": "display_data"
    },
    {
     "data": {
      "image/png": "[encoded data removed]",
      "text/plain": [
       "<matplotlib.figure.Figure at 0xa45c390>"
      ]
     },
     "metadata": {},
     "output_type": "display_data"
    }
   ],
   "source": [
    "allMyTransMatrices = [trans2_1to2, trans3_1to2, trans3_2to3, trans4_1to2, trans4_2to3, trans4_3to4]\n",
    "titles = [\"Transition between 1st and 2nd event in 2gram\",\"Transition between 1st and 2nd event in 3gram\",\n",
    "         \"Transition between 2nd and 3rd event in 3gram\", \"Transition between 1st and 2nd event in 4gram\",\n",
    "         \"Transition between 2nd and 3rd event in 4gram\", \"Transition between 3rd and 4th event in 4gram\"]\n",
    "\n",
    "titleCt=0 \n",
    "\n",
    "for d in allMyTransMatrices:\n",
    "    \n",
    "    myMtx = np.zeros((len(eventCodes), len(eventCodes)))\n",
    "    for i in range(0, len(eventCodes)):\n",
    "        for j in range(0, len(eventCodes)):\n",
    "            if eventCodes[i] in d.keys():\n",
    "                if eventCodes[j] in d[eventCodes[i]].keys():\n",
    "                    myMtx[i, j] = d[eventCodes[i]][eventCodes[j]]\n",
    "                else:\n",
    "                    myMtx[i, j] = 0\n",
    "            else:\n",
    "                myMtx[i, j] = 0\n",
    "\n",
    "    fig = plt.figure(figsize=(6,6))\n",
    "    ax = fig.add_subplot(111)\n",
    "    ax.set_xticklabels(listOfEvents)\n",
    "    ax.set_yticklabels(listOfEvents)\n",
    "    ax.xaxis.set_major_locator(tk.MultipleLocator(1))\n",
    "    ax.yaxis.set_major_locator(tk.MultipleLocator(1))\n",
    "    \n",
    "    #plt.xticks(range(len(listOfEvents)), listOfEvents)\n",
    "    plt.title(titles[titleCt])\n",
    "    \n",
    "    ax.matshow(myMtx)\n",
    "    plt.show()\n",
    "    titleCt += 1"
   ]
  },
  {
   "cell_type": "markdown",
   "metadata": {},
   "source": [
    "# Sequences\n",
    "***\n",
    "Now we look at sequence frequencies. What are the most recurring sequences?  "
   ]
  },
  {
   "cell_type": "markdown",
   "metadata": {},
   "source": [
    "We start with the top 10 sequences of 2 events"
   ]
  },
  {
   "cell_type": "code",
   "execution_count": 106,
   "metadata": {},
   "outputs": [
    {
     "name": "stdout",
     "output_type": "stream",
     "text": [
      "Nonintentional Walk , Single\n",
      "Count 2954\n",
      "Percentage 4.784 % \n",
      "\n",
      "Single , Single\n",
      "Count 4847\n",
      "Percentage 7.85 % \n",
      "\n",
      "Double , Single\n",
      "Count 2825\n",
      "Percentage 4.575 % \n",
      "\n",
      "Out , Homerun\n",
      "Count 5584\n",
      "Percentage 9.044 % \n",
      "\n",
      "Single , Out\n",
      "Count 2803\n",
      "Percentage 4.54 % \n",
      "\n",
      "Strikeout , Homerun\n",
      "Count 2145\n",
      "Percentage 3.474 % \n",
      "\n",
      "Out , Double\n",
      "Count 2354\n",
      "Percentage 3.8129999999999997 % \n",
      "\n",
      "Out , Single\n",
      "Count 5297\n",
      "Percentage 8.579 % \n",
      "\n",
      "Single , Double\n",
      "Count 2965\n",
      "Percentage 4.802 % \n",
      "\n",
      "Single , Homerun\n",
      "Count 2646\n",
      "Percentage 4.2860000000000005 % \n",
      "\n"
     ]
    }
   ],
   "source": [
    "#top sequences \n",
    "\n",
    "#newA = dict(sorted(A.iteritems(), key=operator.itemgetter(1), reverse=True)[:5])\n",
    "\n",
    "topSeqsOf2 = dict(sorted(hashable2Seqs.items(), key=operator.itemgetter(1), reverse=True)[:10])\n",
    "topSeqsOf3 = dict(sorted(hashable3Seqs.items(), key=operator.itemgetter(1), reverse=True)[:10])\n",
    "topSeqsOf4 = dict(sorted(hashable4Seqs.items(), key=operator.itemgetter(1), reverse=True)[:10])\n",
    "\n",
    "#print(topSeqsOf2, topSeqsOf3, topSeqsOf4)\n",
    "\n",
    "for event in topSeqsOf2.keys(): \n",
    "    isoEvent = event.split(\"_\")\n",
    "    print(eventCodesDictReversedFull[int(isoEvent[0])][1], \",\", eventCodesDictReversedFull[int(isoEvent[1])][1])\n",
    "    print(\"Count\", topSeqsOf2[event])\n",
    "    print(\"Percentage\", round(float(topSeqsOf2[event])/float(total2),5)*100, \"% \\n\")\n"
   ]
  },
  {
   "cell_type": "markdown",
   "metadata": {},
   "source": [
    "The top 10 sequences of 3 events"
   ]
  },
  {
   "cell_type": "code",
   "execution_count": 107,
   "metadata": {},
   "outputs": [
    {
     "name": "stdout",
     "output_type": "stream",
     "text": [
      "Out , Single , Single\n",
      "Count 874\n",
      "Percentage 1.5859999999999999 % \n",
      "\n",
      "Single , Out , Double\n",
      "Count 802\n",
      "Percentage 1.455 % \n",
      "\n",
      "Nonintentional Walk , Single , Single\n",
      "Count 848\n",
      "Percentage 1.539 % \n",
      "\n",
      "Out , Out , Homerun\n",
      "Count 1298\n",
      "Percentage 2.355 % \n",
      "\n",
      "Out , Double , Single\n",
      "Count 896\n",
      "Percentage 1.6260000000000001 % \n",
      "\n",
      "Single , Out , Single\n",
      "Count 1494\n",
      "Percentage 2.711 % \n",
      "\n",
      "Double , Out , Single\n",
      "Count 1160\n",
      "Percentage 2.105 % \n",
      "\n",
      "Single , Single , Single\n",
      "Count 1860\n",
      "Percentage 3.375 % \n",
      "\n",
      "Out , Single , Double\n",
      "Count 807\n",
      "Percentage 1.464 % \n",
      "\n",
      "Single , Single , Out\n",
      "Count 1012\n",
      "Percentage 1.836 % \n",
      "\n"
     ]
    }
   ],
   "source": [
    "for event in topSeqsOf3.keys(): \n",
    "    isoEvent = event.split(\"_\")\n",
    "    print(eventCodesDictReversedFull[int(isoEvent[0])][1], \",\", eventCodesDictReversedFull[int(isoEvent[1])][1], \",\", eventCodesDictReversedFull[int(isoEvent[2])][1],)\n",
    "    print(\"Count\", topSeqsOf3[event])\n",
    "    print(\"Percentage\", round(float(topSeqsOf3[event])/float(total3),5)*100, \"% \\n\")"
   ]
  },
  {
   "cell_type": "markdown",
   "metadata": {},
   "source": [
    "The top 10 sequences of 4 events"
   ]
  },
  {
   "cell_type": "code",
   "execution_count": 108,
   "metadata": {},
   "outputs": [
    {
     "name": "stdout",
     "output_type": "stream",
     "text": [
      "Single , Single , Single , Single\n",
      "Count 340\n",
      "Percentage 0.787 % \n",
      "\n",
      "Single , Out , Single , Single\n",
      "Count 404\n",
      "Percentage 0.936 % \n",
      "\n",
      "Single , Single , Single , Out\n",
      "Count 244\n",
      "Percentage 0.565 % \n",
      "\n",
      "Single , Single , Out , Out\n",
      "Count 289\n",
      "Percentage 0.6689999999999999 % \n",
      "\n",
      "Single , Out , Out , Single\n",
      "Count 352\n",
      "Percentage 0.815 % \n",
      "\n",
      "Out , Single , Single , Single\n",
      "Count 577\n",
      "Percentage 1.336 % \n",
      "\n",
      "Out , Double , Out , Single\n",
      "Count 256\n",
      "Percentage 0.5930000000000001 % \n",
      "\n",
      "Out , Nonintentional Walk , Single , Single\n",
      "Count 291\n",
      "Percentage 0.674 % \n",
      "\n",
      "Single , Single , Out , Single\n",
      "Count 559\n",
      "Percentage 1.294 % \n",
      "\n",
      "Out , Single , Out , Single\n",
      "Count 246\n",
      "Percentage 0.5700000000000001 % \n",
      "\n"
     ]
    }
   ],
   "source": [
    "for event in topSeqsOf4.keys(): \n",
    "    isoEvent = event.split(\"_\")\n",
    "    print(eventCodesDictReversedFull[int(isoEvent[0])][1], \",\", eventCodesDictReversedFull[int(isoEvent[1])][1], \",\", eventCodesDictReversedFull[int(isoEvent[2])][1], \",\",  eventCodesDictReversedFull[int(isoEvent[3])][1])\n",
    "    print(\"Count\", topSeqsOf4[event])\n",
    "    print(\"Percentage\", round(float(topSeqsOf4[event])/float(total4),5)*100, \"% \\n\")"
   ]
  },
  {
   "cell_type": "markdown",
   "metadata": {},
   "source": [
    "# Looking at unique sequences \n",
    "***\n",
    "We can look at sequences of our design here. Inputting each event will show the percentage frequency of that event in that order of the sequence, as well as the probability of transitioning between each one. Finally, we can see the probability of observing the sequence as a whole. "
   ]
  },
  {
   "cell_type": "code",
   "execution_count": 126,
   "metadata": {},
   "outputs": [
    {
     "name": "stdout",
     "output_type": "stream",
     "text": [
      "Frequencies of\n",
      "1B : 0.28371856743713486\n",
      "K : 0.09557676258209659\n",
      "HR : 0.1761493522987046\n",
      "\n",
      "\n",
      "Probability of transitioning from \n",
      "1B to K : 0.09061\n",
      "K to HR : 0.25399\n",
      "\n",
      "\n",
      "Probability of seeing this sequence\n",
      "0.00459 %\n"
     ]
    }
   ],
   "source": [
    "inputSeqs = ['1B', 'K', 'HR']\n",
    "\n",
    "\n",
    "n = len(inputSeqs)\n",
    "inputSeqsCd = []\n",
    "for s in inputSeqs:\n",
    "    inputSeqsCd.append(eventCodesDict[s])\n",
    "\n",
    "print(\"Frequencies of\")\n",
    "if n == 2: \n",
    "    print(str(inputSeqs[0]), \":\", float(eventFreq2_1[inputSeqsCd[0]]) / float(total2))\n",
    "    print(str(inputSeqs[1]), \":\", float(eventFreq2_2[inputSeqsCd[1]]) / float(total2))\n",
    "elif n == 3: \n",
    "    print(str(inputSeqs[0]), \":\", float(eventFreq3_1[inputSeqsCd[0]]) / float(total3))\n",
    "    print(str(inputSeqs[1]), \":\", float(eventFreq3_2[inputSeqsCd[1]]) / float(total3))\n",
    "    print(str(inputSeqs[2]), \":\", float(eventFreq3_3[inputSeqsCd[2]]) / float(total3))\n",
    "elif n == 4: \n",
    "    print(str(inputSeqs[0]), \":\", float(eventFreq4_1[inputSeqsCd[0]]) / float(total4))\n",
    "    print(str(inputSeqs[1]), \":\", float(eventFreq4_2[inputSeqsCd[1]]) / float(total4))\n",
    "    print(str(inputSeqs[2]), \":\", float(eventFreq4_3[inputSeqsCd[2]]) / float(total4))\n",
    "    print(str(inputSeqs[3]), \":\", float(eventFreq4_4[inputSeqsCd[3]]) / float(total4))\n",
    "print(\"\\n\")\n",
    "\n",
    "print(\"Probability of transitioning from \")\n",
    "if n == 2: \n",
    "    print(str(inputSeqs[0]), \"to\", str(inputSeqs[1]), \":\", trans2_1to2[inputSeqsCd[0]][inputSeqsCd[1]])\n",
    "\n",
    "    s = str(inputSeqsCd[0]) + \"_\" + str(inputSeqsCd[1]) \n",
    "    print(\"\\n\")\n",
    "    print(\"Probability of seeing this sequence\")\n",
    "    print(round(float(hashable2Seqs[s])/float(total2),5), \"%\")\n",
    "if n == 3: \n",
    "    print(str(inputSeqs[0]), \"to\", str(inputSeqs[1]), \":\", trans3_1to2[inputSeqsCd[0]][inputSeqsCd[1]])\n",
    "    print(str(inputSeqs[1]), \"to\", str(inputSeqs[2]), \":\", trans3_2to3[inputSeqsCd[1]][inputSeqsCd[2]])\n",
    "\n",
    "    s = str(inputSeqsCd[0]) + \"_\" + str(inputSeqsCd[1]) + \"_\" +str(inputSeqsCd[2]) \n",
    "    print(\"\\n\")\n",
    "    print(\"Probability of seeing this sequence\")\n",
    "    print(round(float(hashable3Seqs[s])/float(total3),5), \"%\")\n",
    "elif n == 4:\n",
    "    print(str(inputSeqs[0]), \"to\", str(inputSeqs[1]), \":\", trans4_1to2[inputSeqsCd[0]][inputSeqsCd[1]])\n",
    "    print(str(inputSeqs[1]), \"to\", str(inputSeqs[2]), \":\", trans4_2to3[inputSeqsCd[1]][inputSeqsCd[2]])\n",
    "    print(str(inputSeqs[2]), \"to\", str(inputSeqs[3]), \":\", trans4_3to4[inputSeqsCd[2]][inputSeqsCd[3]])\n",
    "\n",
    "    s = str(inputSeqsCd[0]) + \"_\" + str(inputSeqsCd[1]) + \"_\" +str(inputSeqsCd[2] + \"_\" + str(inputSeqsCd[3])) \n",
    "    print(\"\\n\")\n",
    "    print(\"Probability of seeing this sequence\")\n",
    "    print(round(float(hashable4Seqs[s])/float(total4),5) * 100, \"%\")"
   ]
  },
  {
   "cell_type": "markdown",
   "metadata": {},
   "source": [
    "# Looking At Player Stats \n",
    "***\n",
    "We can also input a player (between 2010 and 2013) to see what their scores would be for RC (run created), OBP (on base percentage), and each Ngram of ROC. "
   ]
  },
  {
   "cell_type": "code",
   "execution_count": 127,
   "metadata": {},
   "outputs": [
    {
     "name": "stdout",
     "output_type": "stream",
     "text": [
      "Patrick Corbin\n",
      "Runs created:  0.721153846154\n",
      "OBP:  0.152380952381\n",
      "Run Opportunities created in 2 events:  0.0246413793\n",
      "Run Opportunities created in 3 events:  0.0256610345\n",
      "Run Opportunities created in 4 events:  0.0494981034\n"
     ]
    }
   ],
   "source": [
    "#player scores data \n",
    "statsDF = pd.read_csv('allStats.csv')\n",
    "\n",
    "playerNames = []\n",
    "for line in range(0,len(statsDF)):\n",
    "    name = str(statsDF['firstName'][line]) + \" \" + str(statsDF['lastName'][line])\n",
    "    playerNames.append(name)\n",
    "    \n",
    "    \n",
    "player = \"Patrick Corbin\"\n",
    "player = player.split()\n",
    "\n",
    "first = player[0]\n",
    "last= player[1]\n",
    "\n",
    "for line in range(0,len(statsDF)):\n",
    "    if statsDF['firstName'][line] == first and statsDF['lastName'][line] == last:\n",
    "       \n",
    "        print(statsDF['firstName'][line], statsDF['lastName'][line])\n",
    "        print(\"Runs created: \", statsDF['RC'][line])\n",
    "        print(\"OBP: \", statsDF['OBP'][line])\n",
    "        print(\"Run Opportunities created in 2 events: \", statsDF['2ROC'][line])\n",
    "        print(\"Run Opportunities created in 3 events: \",statsDF['3ROC'][line])\n",
    "        print(\"Run Opportunities created in 4 events: \",statsDF['4ROC'][line])"
   ]
  },
  {
   "cell_type": "markdown",
   "metadata": {},
   "source": [
    "# Comparing ROC with RC and OBP\n",
    "***\n",
    "\n",
    "Looking at the histograms, runs created and all ROC stats appear to have exponential distributions. This could indicate that they are similar and correlated. OBP is a bit unusually shaped. "
   ]
  },
  {
   "cell_type": "code",
   "execution_count": 67,
   "metadata": {},
   "outputs": [
    {
     "data": {
      "image/png": "[encoded data removed]",
      "text/plain": [
       "<matplotlib.figure.Figure at 0x12e1b9e8>"
      ]
     },
     "metadata": {},
     "output_type": "display_data"
    }
   ],
   "source": [
    "#distribution of OBP, RC, and all ROC scores \n",
    "binSize = 20\n",
    "plt.figure(figsize=(15,8))\n",
    "plt.subplot(2, 3, 1)\n",
    "plt.hist(statsDF['OBP'], bins=binSize)\n",
    "plt.title(\"OBP Frequency\")\n",
    "plt.subplot(2, 3, 2)\n",
    "plt.hist(statsDF['RC'], bins=binSize)\n",
    "plt.title(\"RC Frequency\")\n",
    "plt.subplot(2, 3, 4)\n",
    "plt.hist(statsDF['2ROC'], bins=binSize)\n",
    "plt.title(\"ROC in 2 events Frequency\")\n",
    "plt.subplot(2, 3, 5)\n",
    "plt.hist(statsDF['3ROC'], bins=binSize)\n",
    "plt.title(\"ROC in 3 events Frequency\")\n",
    "plt.subplot(2, 3, 6)\n",
    "plt.hist(statsDF['4ROC'], bins=binSize)\n",
    "plt.title(\"ROC in 4 events Frequency\")\n",
    "plt.show()"
   ]
  },
  {
   "cell_type": "markdown",
   "metadata": {},
   "source": [
    "# Correlation \n",
    "\n",
    "We can also observe each point of data compared to one another in order to visualize the relationships."
   ]
  },
  {
   "cell_type": "code",
   "execution_count": 73,
   "metadata": {},
   "outputs": [
    {
     "name": "stdout",
     "output_type": "stream",
     "text": [
      "Correlation between 2ROC and 3ROC : 0.379399685564\n"
     ]
    },
    {
     "data": {
      "image/png": "[encoded data removed]",
      "text/plain": [
       "<matplotlib.figure.Figure at 0x12f63b38>"
      ]
     },
     "metadata": {},
     "output_type": "display_data"
    }
   ],
   "source": [
    "#correlation or ROCs with RC, OBP \n",
    "choice1 = '2ROC'\n",
    "choice2 = '3ROC'\n",
    "\n",
    "fig, axes = plt.subplots(nrows=1, ncols=1, figsize=(6,6))\n",
    "axes.scatter(statsDF[choice1], statsDF[choice2], color = \"steelblue\")\n",
    "axes.grid(alpha=0.25)\n",
    "axes.set_xlabel(choice1, fontsize=16)\n",
    "axes.set_ylabel(choice2, fontsize=16)\n",
    "axes.set_title(choice1+ \" vs. \" + choice2, fontsize=16)\n",
    "\n",
    "c = statsDF[choice1].corr(statsDF[choice2], method='pearson')\n",
    "print(\"Correlation between\", choice1, \"and\", choice2, \":\" ,c)"
   ]
  },
  {
   "cell_type": "markdown",
   "metadata": {},
   "source": [
    "Full correlation table:"
   ]
  },
  {
   "cell_type": "code",
   "execution_count": 112,
   "metadata": {},
   "outputs": [
    {
     "data": {
      "text/html": [
       "<div>\n",
       "<table border=\"1\" class=\"dataframe\">\n",
       "  <thead>\n",
       "    <tr style=\"text-align: right;\">\n",
       "      <th></th>\n",
       "      <th>RC</th>\n",
       "      <th>OBP</th>\n",
       "      <th>2ROC</th>\n",
       "      <th>3ROC</th>\n",
       "      <th>4ROC</th>\n",
       "    </tr>\n",
       "  </thead>\n",
       "  <tbody>\n",
       "    <tr>\n",
       "      <th>RC</th>\n",
       "      <td>1.000000</td>\n",
       "      <td>0.444398</td>\n",
       "      <td>0.220340</td>\n",
       "      <td>0.403546</td>\n",
       "      <td>0.189753</td>\n",
       "    </tr>\n",
       "    <tr>\n",
       "      <th>OBP</th>\n",
       "      <td>0.444398</td>\n",
       "      <td>1.000000</td>\n",
       "      <td>0.239780</td>\n",
       "      <td>0.424737</td>\n",
       "      <td>0.360810</td>\n",
       "    </tr>\n",
       "    <tr>\n",
       "      <th>2ROC</th>\n",
       "      <td>0.220340</td>\n",
       "      <td>0.239780</td>\n",
       "      <td>1.000000</td>\n",
       "      <td>0.379400</td>\n",
       "      <td>0.650344</td>\n",
       "    </tr>\n",
       "    <tr>\n",
       "      <th>3ROC</th>\n",
       "      <td>0.403546</td>\n",
       "      <td>0.424737</td>\n",
       "      <td>0.379400</td>\n",
       "      <td>1.000000</td>\n",
       "      <td>0.399572</td>\n",
       "    </tr>\n",
       "    <tr>\n",
       "      <th>4ROC</th>\n",
       "      <td>0.189753</td>\n",
       "      <td>0.360810</td>\n",
       "      <td>0.650344</td>\n",
       "      <td>0.399572</td>\n",
       "      <td>1.000000</td>\n",
       "    </tr>\n",
       "  </tbody>\n",
       "</table>\n",
       "</div>"
      ],
      "text/plain": [
       "            RC       OBP      2ROC      3ROC      4ROC\n",
       "RC    1.000000  0.444398  0.220340  0.403546  0.189753\n",
       "OBP   0.444398  1.000000  0.239780  0.424737  0.360810\n",
       "2ROC  0.220340  0.239780  1.000000  0.379400  0.650344\n",
       "3ROC  0.403546  0.424737  0.379400  1.000000  0.399572\n",
       "4ROC  0.189753  0.360810  0.650344  0.399572  1.000000"
      ]
     },
     "execution_count": 112,
     "metadata": {},
     "output_type": "execute_result"
    }
   ],
   "source": [
    "statsDF.drop(['firstName', 'lastName'], axis=1).corr(method='pearson')"
   ]
  }
 ],
 "metadata": {
  "anaconda-cloud": {},
  "kernelspec": {
   "display_name": "Python 3",
   "language": "python",
   "name": "python3"
  },
  "language_info": {
   "codemirror_mode": {
    "name": "ipython",
    "version": 3
   },
   "file_extension": ".py",
   "mimetype": "text/x-python",
   "name": "python",
   "nbconvert_exporter": "python",
   "pygments_lexer": "ipython3",
   "version": "3.4.5"
  }
 },
 "nbformat": 4,
 "nbformat_minor": 1
}
